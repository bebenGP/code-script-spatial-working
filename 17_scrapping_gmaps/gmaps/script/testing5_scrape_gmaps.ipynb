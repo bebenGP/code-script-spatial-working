{
 "cells": [
  {
   "cell_type": "code",
   "execution_count": 98,
   "metadata": {},
   "outputs": [],
   "source": [
    "import time\n",
    "from selenium import webdriver\n",
    "from selenium.webdriver.common.by import By\n",
    "from selenium.common.exceptions import NoSuchElementException \n",
    "from selenium.webdriver.chrome.options import Options\n",
    "from bs4 import BeautifulSoup\n",
    "from lxml import etree\n",
    "import requests\n",
    "import csv"
   ]
  },
  {
   "cell_type": "code",
   "execution_count": 16,
   "metadata": {},
   "outputs": [],
   "source": [
    "url = 'https://www.google.com/maps/search/Bulutangkis/@-6.5934944,106.7993574,12z?entry=ttu'"
   ]
  },
  {
   "cell_type": "code",
   "execution_count": 7,
   "metadata": {},
   "outputs": [],
   "source": [
    "\"\"\"\n",
    "def check_exists_by_xpath(xpath):\n",
    "    try:\n",
    "        driver.find_element(By.XPATH, xpath)\n",
    "    except:\n",
    "        return False\n",
    "    return True\n",
    "\n",
    "\n",
    "def scroll_to_bottom(iteration=None):\n",
    "    xpath_sidebar = driver.find_element(By.XPATH, '/html/body/div[2]/div[3]/div[8]/div[9]/div/div/div[1]/div[2]/div/div[1]/div/div/div[1]/div[1]')\n",
    "    if(iteration == None):\n",
    "        driver.execute_script(\"arguments[0].scrollTo(0, arguments[0].scrollHeight)\", xpath_sidebar)\n",
    "        time.sleep(2)\n",
    "    else:\n",
    "        for i in range(1, iteration):\n",
    "            driver.execute_script(\"arguments[0].scrollTo(0, arguments[0].scrollHeight)\", xpath_sidebar)\n",
    "            time.sleep(2)\n",
    "            \n",
    "def scrape_data() :\n",
    "    xpath_blok = ['/html/body/div[2]/div[3]/div[8]/div[9]/div/div/div[1]/div[2]/div/div[1]/div/div/div[1]/div[1]/div[{}]/div/a']\n",
    "    for i in range (3, 30, 2):\n",
    "        for xpath in xpath_blok :\n",
    "            xpath = xpath.format(i)\n",
    "            \n",
    "            try :\n",
    "                element = driver.find_element(By.XPATH, xpath)\n",
    "                print(element)    \n",
    "            except :\n",
    "                print('error')            \n",
    "    \"\"\""
   ]
  },
  {
   "cell_type": "code",
   "execution_count": 55,
   "metadata": {},
   "outputs": [
    {
     "name": "stdout",
     "output_type": "stream",
     "text": [
      "[<div class=\"bfdHYd Ppzolf OFBs3e\"><div class=\"rgFiGf OyjIsf\"></div><div class=\"hHbUWd\"></div><div class=\"rSy5If\"></div><div class=\"lI9IFe\"><div class=\"y7PRA\"><div class=\"Lui3Od T7Wufd\"><div class=\"Z8fK3b\"><div class=\"OyjIsf\"></div><div class=\"UaQhfb fontBodyMedium\"><div class=\"NrDZNb\"><div class=\"dIDW9d\"></div><span class=\"HTCGSb\"></span><div class=\"qBF1Pd fontHeadlineSmall\">Lapangan Bulutangkis Cilibende RT.02/RW.06</div> <span class=\"muMOJe\"></span></div><div class=\"section-subtitle-extension\"></div><div class=\"W4Efsd\"><div class=\"AJB7ye\"><span class=\"wZrhX\"></span> <span class=\"e4rVHe fontBodyMedium\"><span aria-label=\"Bintang 4,7 47 Ulasan\" class=\"ZkP5Je\" role=\"img\"><span aria-hidden=\"true\" class=\"MW4etd\">4,7</span><div class=\"QBUL8c\"></div><div class=\"QBUL8c\"></div><div class=\"QBUL8c\"></div><div class=\"QBUL8c\"></div><div class=\"QBUL8c vIBWLc\"></div><span aria-hidden=\"true\" class=\"UY7F9\">(47)</span></span></span></div></div><div class=\"W4Efsd\"><div class=\"W4Efsd\"><span><span>Lapangan Bulutangkis</span></span><span> <span aria-hidden=\"true\">·</span> <span>CR75+9XW, RT.05/RW.02</span></span></div><div class=\"W4Efsd\"><span><span><span style=\"font-weight: 400; color: rgba(24,128,56,1.00);\">Buka 24 jam</span></span></span><span> <span aria-hidden=\"true\">·</span> <span class=\"UsdlK\">0881-0243-04045</span></span></div></div></div></div></div></div><div class=\"Rwjeuc\"><div class=\"etWJQ jym1ob kdfrQc bWQG4d\"><button aria-label=\"Lihat rute ke Lapangan Bulutangkis Cilibende RT.02/RW.06\" class=\"g88MCb S9kvJb\" data-value=\"Rute\" jsaction=\"pane.wfvdle8;keydown:pane.wfvdle8;mouseover:pane.wfvdle8;mouseout:pane.wfvdle8\" jslog=\"80860;track:click;mutable:true;metadata:WyIwYWhVS0V3aUJ5S25TOTdlRUF4WFktRGdHSGFwM0F1NFE4QmNJQlNnQSJd\"><span class=\"DVeyrd\"><div class=\"OyjIsf zemfqc\"></div><span class=\"Cw1rxd google-symbols G47vBd\"></span></span><div class=\"R8c4Qb fontBodySmall\">Rute</div></button></div></div><div class=\"SpFAAb\"></div></div><div class=\"qty3Ue\"></div><div class=\"gwQ6lc\" jsaction=\"click:mLt3mc\"></div></div>, <div class=\"bfdHYd Ppzolf OFBs3e\"><div class=\"rgFiGf OyjIsf\"></div><div class=\"hHbUWd\"></div><div class=\"rSy5If\"></div><div class=\"lI9IFe\"><div class=\"y7PRA\"><div class=\"Lui3Od T7Wufd\"><div class=\"Z8fK3b\"><div class=\"OyjIsf\"></div><div class=\"UaQhfb fontBodyMedium\"><div class=\"NrDZNb\"><div class=\"dIDW9d\"></div><span class=\"HTCGSb\"></span><div class=\"qBF1Pd fontHeadlineSmall\">Lapangan Bulutangkis Cahaya Rawabuntu (CRB)</div> <span class=\"muMOJe\"></span></div><div class=\"section-subtitle-extension\"></div><div class=\"W4Efsd\"><div class=\"AJB7ye\"><span class=\"wZrhX\"></span> <span class=\"e4rVHe fontBodyMedium\"><span aria-label=\"Bintang 5,0 2 Ulasan\" class=\"ZkP5Je\" role=\"img\"><span aria-hidden=\"true\" class=\"MW4etd\">5,0</span><div class=\"QBUL8c\"></div><div class=\"QBUL8c\"></div><div class=\"QBUL8c\"></div><div class=\"QBUL8c\"></div><div class=\"QBUL8c\"></div><span aria-hidden=\"true\" class=\"UY7F9\">(2)</span></span></span></div></div><div class=\"W4Efsd\"><div class=\"W4Efsd\"><span><span>Lapangan Bulutangkis</span></span><span> <span aria-hidden=\"true\">·</span> <span>GR8F+GGQ</span></span></div><div class=\"W4Efsd\"><span><span><span style=\"font-weight: 400; color: rgba(24,128,56,1.00);\">Buka 24 jam</span></span></span></div></div></div></div></div></div><div class=\"Rwjeuc\"><div class=\"etWJQ jym1ob kdfrQc bWQG4d\"><button aria-label=\"Lihat rute ke Lapangan Bulutangkis Cahaya Rawabuntu (CRB)\" class=\"g88MCb S9kvJb\" data-value=\"Rute\" jsaction=\"pane.wfvdle11;keydown:pane.wfvdle11;mouseover:pane.wfvdle11;mouseout:pane.wfvdle11\" jslog=\"80860;track:click;mutable:true;metadata:WyIwYWhVS0V3aUJ5S25TOTdlRUF4WFktRGdHSGFwM0F1NFE4QmNJTGlnQSJd\"><span class=\"DVeyrd\"><div class=\"OyjIsf zemfqc\"></div><span class=\"Cw1rxd google-symbols G47vBd\"></span></span><div class=\"R8c4Qb fontBodySmall\">Rute</div></button></div></div><div class=\"SpFAAb\"></div></div><div class=\"qty3Ue\"></div><div class=\"gwQ6lc\" jsaction=\"click:mLt3mc\"></div></div>, <div class=\"bfdHYd Ppzolf OFBs3e\"><div class=\"rgFiGf OyjIsf\"></div><div class=\"hHbUWd\"></div><div class=\"rSy5If\"></div><div class=\"lI9IFe\"><div class=\"y7PRA\"><div class=\"Lui3Od T7Wufd\"><div class=\"Z8fK3b\"><div class=\"OyjIsf\"></div><div class=\"UaQhfb fontBodyMedium\"><div class=\"NrDZNb\"><div class=\"dIDW9d\"></div><span class=\"HTCGSb\"></span><div class=\"qBF1Pd fontHeadlineSmall\">Lapangan Bulutangkis GPK 1</div> <span class=\"muMOJe\"></span></div><div class=\"section-subtitle-extension\"></div><div class=\"W4Efsd\"><div class=\"AJB7ye\"><span class=\"wZrhX\"></span> <span class=\"e4rVHe fontBodyMedium\"><span aria-label=\"Bintang 5,0 4 Ulasan\" class=\"ZkP5Je\" role=\"img\"><span aria-hidden=\"true\" class=\"MW4etd\">5,0</span><div class=\"QBUL8c\"></div><div class=\"QBUL8c\"></div><div class=\"QBUL8c\"></div><div class=\"QBUL8c\"></div><div class=\"QBUL8c\"></div><span aria-hidden=\"true\" class=\"UY7F9\">(4)</span></span></span></div></div><div class=\"W4Efsd\"><div class=\"W4Efsd\"><span><span>Lapangan Bulutangkis</span></span><span> <span aria-hidden=\"true\">·</span> <span>GP49+F37, Unnamed Road</span></span></div><div class=\"W4Efsd\"><span><span><span style=\"font-weight: 400; color: rgba(24,128,56,1.00);\">Buka 24 jam</span></span></span></div></div></div></div></div></div><div class=\"Rwjeuc\"><div class=\"etWJQ jym1ob kdfrQc bWQG4d\"><button aria-label=\"Lihat rute ke Lapangan Bulutangkis GPK 1\" class=\"g88MCb S9kvJb\" data-value=\"Rute\" jsaction=\"pane.wfvdle14;keydown:pane.wfvdle14;mouseover:pane.wfvdle14;mouseout:pane.wfvdle14\" jslog=\"80860;track:click;mutable:true;metadata:WyIwYWhVS0V3aUJ5S25TOTdlRUF4WFktRGdHSGFwM0F1NFE4QmNJVXlnQSJd\"><span class=\"DVeyrd\"><div class=\"OyjIsf zemfqc\"></div><span class=\"Cw1rxd google-symbols G47vBd\"></span></span><div class=\"R8c4Qb fontBodySmall\">Rute</div></button></div></div><div class=\"SpFAAb\"></div></div><div class=\"qty3Ue\"></div><div class=\"gwQ6lc\" jsaction=\"click:mLt3mc\"></div></div>, <div class=\"bfdHYd Ppzolf OFBs3e\"><div class=\"rgFiGf OyjIsf\"></div><div class=\"hHbUWd\"></div><div class=\"rSy5If\"></div><div class=\"lI9IFe\"><div class=\"y7PRA\"><div class=\"Lui3Od T7Wufd\"><div class=\"Z8fK3b\"><div class=\"OyjIsf\"></div><div class=\"UaQhfb fontBodyMedium\"><div class=\"NrDZNb\"><div class=\"dIDW9d\"></div><span class=\"HTCGSb\"></span><div class=\"qBF1Pd fontHeadlineSmall\">Lapangan Bulutangkis Lurah Yayat</div> <span class=\"muMOJe\"></span></div><div class=\"section-subtitle-extension\"></div><div class=\"W4Efsd\"><div class=\"AJB7ye\"><span class=\"wZrhX\"></span> <span class=\"e4rVHe fontBodyMedium\"><span aria-label=\"Bintang 5,0 5 Ulasan\" class=\"ZkP5Je\" role=\"img\"><span aria-hidden=\"true\" class=\"MW4etd\">5,0</span><div class=\"QBUL8c\"></div><div class=\"QBUL8c\"></div><div class=\"QBUL8c\"></div><div class=\"QBUL8c\"></div><div class=\"QBUL8c\"></div><span aria-hidden=\"true\" class=\"UY7F9\">(5)</span></span></span></div></div><div class=\"W4Efsd\"><div class=\"W4Efsd\"><span><span>Lapangan Bulutangkis</span></span><span> <span aria-hidden=\"true\">·</span> <span>CPCQ+8PV</span></span></div><div class=\"W4Efsd\"><span><span><span style=\"font-weight: 400; color: rgba(24,128,56,1.00);\">Buka 24 jam</span></span></span></div></div></div></div></div></div><div class=\"Rwjeuc\"><div class=\"etWJQ jym1ob kdfrQc bWQG4d\"><button aria-label=\"Lihat rute ke Lapangan Bulutangkis Lurah Yayat\" class=\"g88MCb S9kvJb\" data-value=\"Rute\" jsaction=\"pane.wfvdle17;keydown:pane.wfvdle17;mouseover:pane.wfvdle17;mouseout:pane.wfvdle17\" jslog=\"80860;track:click;mutable:true;metadata:WyIwYWhVS0V3aUJ5S25TOTdlRUF4WFktRGdHSGFwM0F1NFE4QmNJZUNnQSJd\"><span class=\"DVeyrd\"><div class=\"OyjIsf zemfqc\"></div><span class=\"Cw1rxd google-symbols G47vBd\"></span></span><div class=\"R8c4Qb fontBodySmall\">Rute</div></button></div></div><div class=\"SpFAAb\"></div></div><div class=\"qty3Ue\"></div><div class=\"gwQ6lc\" jsaction=\"click:mLt3mc\"></div></div>, <div class=\"bfdHYd Ppzolf OFBs3e\"><div class=\"rgFiGf OyjIsf\"></div><div class=\"hHbUWd\"></div><div class=\"rSy5If\"></div><div class=\"lI9IFe\"><div class=\"y7PRA\"><div class=\"Lui3Od T7Wufd\"><div class=\"Z8fK3b\"><div class=\"OyjIsf\"></div><div class=\"UaQhfb fontBodyMedium\"><div class=\"NrDZNb\"><div class=\"dIDW9d\"></div><span class=\"HTCGSb\"></span><div class=\"qBF1Pd fontHeadlineSmall\">Lapangan Bulu Tangkis PBKS</div> <span class=\"muMOJe\"></span></div><div class=\"section-subtitle-extension\"></div><div class=\"W4Efsd\"><div class=\"AJB7ye\"><span class=\"wZrhX\"></span> <span class=\"e4rVHe fontBodyMedium\"><span aria-label=\"Bintang 5,0 2 Ulasan\" class=\"ZkP5Je\" role=\"img\"><span aria-hidden=\"true\" class=\"MW4etd\">5,0</span><div class=\"QBUL8c\"></div><div class=\"QBUL8c\"></div><div class=\"QBUL8c\"></div><div class=\"QBUL8c\"></div><div class=\"QBUL8c\"></div><span aria-hidden=\"true\" class=\"UY7F9\">(2)</span></span></span></div></div><div class=\"W4Efsd\"><div class=\"W4Efsd\"><span><span>Lapangan Bulutangkis</span></span><span> <span aria-hidden=\"true\">·</span> <span>kp. kedung umpal rt 005/005</span></span></div><div class=\"W4Efsd\"><span><span><span style=\"font-weight: 400; color: rgba(24,128,56,1.00);\">Buka 24 jam</span></span></span></div></div></div></div></div></div><div class=\"Rwjeuc\"><div class=\"etWJQ jym1ob kdfrQc bWQG4d\"><button aria-label=\"Lihat rute ke Lapangan Bulu Tangkis PBKS\" class=\"g88MCb S9kvJb\" data-value=\"Rute\" jsaction=\"pane.wfvdle20;keydown:pane.wfvdle20;mouseover:pane.wfvdle20;mouseout:pane.wfvdle20\" jslog=\"80860;track:click;mutable:true;metadata:WyIwYWhVS0V3aUJ5S25TOTdlRUF4WFktRGdHSGFwM0F1NFE4QmNJbmdFb0FBIl0=\"><span class=\"DVeyrd\"><div class=\"OyjIsf zemfqc\"></div><span class=\"Cw1rxd google-symbols G47vBd\"></span></span><div class=\"R8c4Qb fontBodySmall\">Rute</div></button></div></div><div class=\"SpFAAb\"></div></div><div class=\"qty3Ue\"></div><div class=\"gwQ6lc\" jsaction=\"click:mLt3mc\"></div></div>, <div class=\"bfdHYd Ppzolf OFBs3e\"><div class=\"rgFiGf OyjIsf\"></div><div class=\"hHbUWd\"></div><div class=\"rSy5If\"></div><div class=\"lI9IFe\"><div class=\"y7PRA\"><div class=\"Lui3Od T7Wufd\"><div class=\"Z8fK3b\"><div class=\"OyjIsf\"></div><div class=\"UaQhfb fontBodyMedium\"><div class=\"NrDZNb\"><div class=\"dIDW9d\"></div><span class=\"HTCGSb\"></span><div class=\"qBF1Pd fontHeadlineSmall\">Lapangan Bulutangkis BMW</div> <span class=\"muMOJe\"></span></div><div class=\"section-subtitle-extension\"></div><div class=\"W4Efsd\"><div class=\"AJB7ye\"><span class=\"wZrhX\"></span> <span class=\"e4rVHe fontBodyMedium\">Tidak ada ulasan</span></div></div><div class=\"W4Efsd\"><div class=\"W4Efsd\"><span><span>Lapangan Bulutangkis</span></span><span> <span aria-hidden=\"true\">·</span> <span>BMW Residence, Jl. Anggrek 3 No.01 16168 Blok C12, RT.04/RW.05</span></span></div><div class=\"W4Efsd\"><span><span><span style=\"font-weight: 400; color: rgba(24,128,56,1.00);\">Buka 24 jam</span></span></span><span> <span aria-hidden=\"true\">·</span> <span class=\"UsdlK\">0812-1913-2411</span></span></div></div></div></div></div></div><div class=\"Rwjeuc\"><div class=\"etWJQ jym1ob kdfrQc bWQG4d\"><button aria-label=\"Lihat rute ke Lapangan Bulutangkis BMW\" class=\"g88MCb S9kvJb\" data-value=\"Rute\" jsaction=\"pane.wfvdle23;keydown:pane.wfvdle23;mouseover:pane.wfvdle23;mouseout:pane.wfvdle23\" jslog=\"80860;track:click;mutable:true;metadata:WyIwYWhVS0V3aUJ5S25TOTdlRUF4WFktRGdHSGFwM0F1NFE4QmNJd2dFb0FBIl0=\"><span class=\"DVeyrd\"><div class=\"OyjIsf zemfqc\"></div><span class=\"Cw1rxd google-symbols G47vBd\"></span></span><div class=\"R8c4Qb fontBodySmall\">Rute</div></button></div></div><div class=\"SpFAAb\"></div></div><div class=\"qty3Ue\"></div><div class=\"gwQ6lc\" jsaction=\"click:mLt3mc\"></div></div>, <div class=\"bfdHYd Ppzolf OFBs3e\"><div class=\"rgFiGf OyjIsf\"></div><div class=\"hHbUWd\"></div><div class=\"rSy5If\"></div><div class=\"lI9IFe\"><div class=\"y7PRA\"><div class=\"Lui3Od T7Wufd\"><div class=\"Z8fK3b\"><div class=\"OyjIsf\"></div><div class=\"UaQhfb fontBodyMedium\"><div class=\"NrDZNb\"><div class=\"dIDW9d\"></div><span class=\"HTCGSb\"></span><div class=\"qBF1Pd fontHeadlineSmall\">HERDINDA SPORT CENTRE</div> <span class=\"muMOJe\"></span></div><div class=\"section-subtitle-extension\"></div><div class=\"W4Efsd\"><div class=\"AJB7ye\"><span class=\"wZrhX\"></span> <span class=\"e4rVHe fontBodyMedium\"><span aria-label=\"Bintang 2,7 3 Ulasan\" class=\"ZkP5Je\" role=\"img\"><span aria-hidden=\"true\" class=\"MW4etd\">2,7</span><div class=\"QBUL8c\"></div><div class=\"QBUL8c\"></div><div class=\"QBUL8c vIBWLc\"></div><div class=\"QBUL8c B53l4e\"></div><div class=\"QBUL8c B53l4e\"></div><span aria-hidden=\"true\" class=\"UY7F9\">(3)</span></span></span></div></div><div class=\"W4Efsd\"><div class=\"W4Efsd\"><span><span>Lapangan Bulutangkis</span></span><span> <span aria-hidden=\"true\">·</span> <span>9MVH+VJC</span></span></div><div class=\"W4Efsd\"><span><span><span style=\"font-weight: 400; color: rgba(24,128,56,1.00);\">Buka 24 jam</span></span></span><span> <span aria-hidden=\"true\">·</span> <span class=\"UsdlK\">0858-1405-3609</span></span></div></div></div></div></div></div><div class=\"Rwjeuc\"><div class=\"etWJQ jym1ob kdfrQc bWQG4d\"><button aria-label=\"Lihat rute ke HERDINDA SPORT CENTRE\" class=\"g88MCb S9kvJb\" data-value=\"Rute\" jsaction=\"pane.wfvdle26;keydown:pane.wfvdle26;mouseover:pane.wfvdle26;mouseout:pane.wfvdle26\" jslog=\"80860;track:click;mutable:true;metadata:WyIwYWhVS0V3aUJ5S25TOTdlRUF4WFktRGdHSGFwM0F1NFE4QmNJNlFFb0FBIl0=\"><span class=\"DVeyrd\"><div class=\"OyjIsf zemfqc\"></div><span class=\"Cw1rxd google-symbols G47vBd\"></span></span><div class=\"R8c4Qb fontBodySmall\">Rute</div></button></div></div><div class=\"SpFAAb\"></div></div><div class=\"qty3Ue\"></div><div class=\"gwQ6lc\" jsaction=\"click:mLt3mc\"></div></div>, <div class=\"bfdHYd Ppzolf OFBs3e\"><div class=\"rgFiGf OyjIsf\"></div><div class=\"hHbUWd\"></div><div class=\"rSy5If\"></div><div class=\"lI9IFe\"><div class=\"y7PRA\"><div class=\"Lui3Od T7Wufd\"><div class=\"Z8fK3b\"><div class=\"OyjIsf\"></div><div class=\"UaQhfb fontBodyMedium\"><div class=\"NrDZNb\"><div class=\"dIDW9d\"></div><span class=\"HTCGSb\"></span><div class=\"qBF1Pd fontHeadlineSmall\">Lapangan Bulutangkis Gang Bambu</div> <span class=\"muMOJe\"></span></div><div class=\"section-subtitle-extension\"></div><div class=\"W4Efsd\"><div class=\"AJB7ye\"><span class=\"wZrhX\"></span> <span class=\"e4rVHe fontBodyMedium\"><span aria-label=\"Bintang 5,0 1 Ulasan\" class=\"ZkP5Je\" role=\"img\"><span aria-hidden=\"true\" class=\"MW4etd\">5,0</span><div class=\"QBUL8c\"></div><div class=\"QBUL8c\"></div><div class=\"QBUL8c\"></div><div class=\"QBUL8c\"></div><div class=\"QBUL8c\"></div><span aria-hidden=\"true\" class=\"UY7F9\">(1)</span></span></span></div></div><div class=\"W4Efsd\"><div class=\"W4Efsd\"><span><span>Lapangan Bulutangkis</span></span><span> <span aria-hidden=\"true\">·</span> <span>FVR8+39F, Jl. Pahlawan Gang Bambu, RT.003/RW.04</span></span></div><div class=\"W4Efsd\"><span><span><span style=\"font-weight: 400; color: rgba(24,128,56,1.00);\">Buka 24 jam</span></span></span></div></div></div></div></div></div><div class=\"Rwjeuc\"><div class=\"etWJQ jym1ob kdfrQc bWQG4d\"><button aria-label=\"Lihat rute ke Lapangan Bulutangkis Gang Bambu\" class=\"g88MCb S9kvJb\" data-value=\"Rute\" jsaction=\"pane.wfvdle29;keydown:pane.wfvdle29;mouseover:pane.wfvdle29;mouseout:pane.wfvdle29\" jslog=\"80860;track:click;mutable:true;metadata:WyIwYWhVS0V3aUJ5S25TOTdlRUF4WFktRGdHSGFwM0F1NFE4QmNJa3dJb0FBIl0=\"><span class=\"DVeyrd\"><div class=\"OyjIsf zemfqc\"></div><span class=\"Cw1rxd google-symbols G47vBd\"></span></span><div class=\"R8c4Qb fontBodySmall\">Rute</div></button></div></div><div class=\"SpFAAb\"></div></div><div class=\"qty3Ue\"></div><div class=\"gwQ6lc\" jsaction=\"click:mLt3mc\"></div></div>, <div class=\"bfdHYd Ppzolf OFBs3e\"><div class=\"rgFiGf OyjIsf\"></div><div class=\"hHbUWd\"></div><div class=\"rSy5If\"></div><div class=\"lI9IFe\"><div class=\"y7PRA\"><div class=\"Lui3Od T7Wufd\"><div class=\"Z8fK3b\"><div class=\"OyjIsf\"></div><div class=\"UaQhfb fontBodyMedium\"><div class=\"NrDZNb\"><div class=\"dIDW9d\"></div><span class=\"HTCGSb\"></span><div class=\"qBF1Pd fontHeadlineSmall\">Lapangan Bulutangkis CIRANJANG</div> <span class=\"muMOJe\"></span></div><div class=\"section-subtitle-extension\"></div><div class=\"W4Efsd\"><div class=\"AJB7ye\"><span class=\"wZrhX\"></span> <span class=\"e4rVHe fontBodyMedium\"><span aria-label=\"Bintang 5,0 1 Ulasan\" class=\"ZkP5Je\" role=\"img\"><span aria-hidden=\"true\" class=\"MW4etd\">5,0</span><div class=\"QBUL8c\"></div><div class=\"QBUL8c\"></div><div class=\"QBUL8c\"></div><div class=\"QBUL8c\"></div><div class=\"QBUL8c\"></div><span aria-hidden=\"true\" class=\"UY7F9\">(1)</span></span></span></div></div><div class=\"W4Efsd\"><div class=\"W4Efsd\"><span><span>Lapangan Bulutangkis</span></span><span> <span aria-hidden=\"true\">·</span> <span>9R43+FWJ, Jl. Ciranjang, RT.01/RW.03</span></span></div><div class=\"W4Efsd\"><span><span><span style=\"font-weight: 400; color: rgba(24,128,56,1.00);\">Buka 24 jam</span></span></span></div></div></div></div></div></div><div class=\"Rwjeuc\"><div class=\"etWJQ jym1ob kdfrQc bWQG4d\"><button aria-label=\"Lihat rute ke Lapangan Bulutangkis CIRANJANG\" class=\"g88MCb S9kvJb\" data-value=\"Rute\" jsaction=\"pane.wfvdle32;keydown:pane.wfvdle32;mouseover:pane.wfvdle32;mouseout:pane.wfvdle32\" jslog=\"80860;track:click;mutable:true;metadata:WyIwYWhVS0V3aUJ5S25TOTdlRUF4WFktRGdHSGFwM0F1NFE4QmNJdFFJb0FBIl0=\"><span class=\"DVeyrd\"><div class=\"OyjIsf zemfqc\"></div><span class=\"Cw1rxd google-symbols G47vBd\"></span></span><div class=\"R8c4Qb fontBodySmall\">Rute</div></button></div></div><div class=\"SpFAAb\"></div></div><div class=\"qty3Ue\"></div><div class=\"gwQ6lc\" jsaction=\"click:mLt3mc\"></div></div>, <div class=\"bfdHYd Ppzolf OFBs3e\"><div class=\"rgFiGf OyjIsf\"></div><div class=\"hHbUWd\"></div><div class=\"rSy5If\"></div><div class=\"lI9IFe\"><div class=\"y7PRA\"><div class=\"Lui3Od T7Wufd\"><div class=\"Z8fK3b\"><div class=\"OyjIsf\"></div><div class=\"UaQhfb fontBodyMedium\"><div class=\"NrDZNb\"><div class=\"dIDW9d\"></div><span class=\"HTCGSb\"></span><div class=\"qBF1Pd fontHeadlineSmall\">Lapangan PB BIMA KUD (Bulutangkis)</div> <span class=\"muMOJe\"></span></div><div class=\"section-subtitle-extension\"></div><div class=\"W4Efsd\"><div class=\"AJB7ye\"><span class=\"wZrhX\"></span> <span class=\"e4rVHe fontBodyMedium\"><span aria-label=\"Bintang 4,0 3 Ulasan\" class=\"ZkP5Je\" role=\"img\"><span aria-hidden=\"true\" class=\"MW4etd\">4,0</span><div class=\"QBUL8c\"></div><div class=\"QBUL8c\"></div><div class=\"QBUL8c\"></div><div class=\"QBUL8c\"></div><div class=\"QBUL8c B53l4e\"></div><span aria-hidden=\"true\" class=\"UY7F9\">(3)</span></span></span></div></div><div class=\"W4Efsd\"><div class=\"W4Efsd\"><span><span>Klub Badminton</span></span><span> <span aria-hidden=\"true\">·</span> <span>FP3H+WF7, Jl. Carang Pulang</span></span></div><div class=\"W4Efsd\"><span><span><span style=\"font-weight: 400; color: rgba(24,128,56,1.00);\">Buka 24 jam</span></span></span><span> <span aria-hidden=\"true\">·</span> <span class=\"UsdlK\">0858-1051-0788</span></span></div></div></div></div></div></div><div class=\"Rwjeuc\"><div class=\"etWJQ jym1ob kdfrQc bWQG4d\"><button aria-label=\"Lihat rute ke Lapangan PB BIMA KUD (Bulutangkis)\" class=\"g88MCb S9kvJb\" data-value=\"Rute\" jsaction=\"pane.wfvdle35;keydown:pane.wfvdle35;mouseover:pane.wfvdle35;mouseout:pane.wfvdle35\" jslog=\"80860;track:click;mutable:true;metadata:WyIwYWhVS0V3aUJ5S25TOTdlRUF4WFktRGdHSGFwM0F1NFE4QmNJMmdJb0FBIl0=\"><span class=\"DVeyrd\"><div class=\"OyjIsf zemfqc\"></div><span class=\"Cw1rxd google-symbols G47vBd\"></span></span><div class=\"R8c4Qb fontBodySmall\">Rute</div></button></div></div><div class=\"SpFAAb\"></div></div><div class=\"qty3Ue\"></div><div class=\"gwQ6lc\" jsaction=\"click:mLt3mc\"></div></div>]\n"
     ]
    }
   ],
   "source": [
    "options = Options()\n",
    "options.headless = True\n",
    "driver = webdriver.Chrome(options=options)\n",
    "\n",
    "driver.get(url)\n",
    "\n",
    "# Dapatkan HTML halaman web setelah di-render\n",
    "html = driver.page_source\n",
    "\n",
    "# Gunakan BeautifulSoup untuk mengekstrak data\n",
    "soup = BeautifulSoup(html, 'lxml')\n",
    "\n",
    "# Misalnya, ekstrak semua judul <h1> dari halaman\n",
    "headings = soup.find_all('div', class_='bfdHYd Ppzolf OFBs3e')\n",
    "print(headings)\n",
    "for heading in headings:\n",
    "    job = heading.find('a', class_='hfpxzc')\n",
    "    if job:\n",
    "        print(job.text.strip())\n",
    "\n",
    "# Setelah selesai, jangan lupa untuk menutup browser\n",
    "driver.quit()\n"
   ]
  },
  {
   "cell_type": "code",
   "execution_count": 103,
   "metadata": {},
   "outputs": [
    {
     "name": "stdout",
     "output_type": "stream",
     "text": [
      "https://www.google.com/maps/place/Lapangan+Bulutangkis+Cilibende+RT.02%2FRW.06/data=!4m7!3m6!1s0x2e69c42ccc465753:0x28f30e572581bc14!8m2!3d-6.5865014!4d106.8099665!16s%2Fg%2F11bwp7319z!19sChIJU1dGzCzEaS4RFLyBJVcO8yg?authuser=0&hl=id&rclk=1\n",
      "Lapangan Bulutangkis Cilibende RT.02/RW.06\n",
      "4,7\n",
      "4,7(47)\n"
     ]
    }
   ],
   "source": [
    "tes = soup.find_all('div', class_='bJzME tTVLSc')\n",
    "\n",
    "for cari in tes :\n",
    "    \n",
    "    href = cari.find('a', class_='hfpxzc')\n",
    "    if job :\n",
    "        href_value = href.get('href')\n",
    "        print(href_value)\n",
    "        \n",
    "    poi_names = cari.find('div', class_='qBF1Pd fontHeadlineSmall')\n",
    "    if poi_names :\n",
    "        data_poi_name = poi_names.text.strip()\n",
    "        print(data_poi_name)\n",
    "        \n",
    "    rating = cari.find('span', class_='MW4etd')\n",
    "    if rating :\n",
    "        ratings = rating.text.strip()\n",
    "        print(ratings)\n",
    "        \n",
    "    tags = cari.find('div', class_='W4Efsd')\n",
    "    if tags :\n",
    "        tags_ = tags.text.strip()\n",
    "        print(tags_)\n",
    "    \n"
   ]
  },
  {
   "cell_type": "code",
   "execution_count": 139,
   "metadata": {},
   "outputs": [
    {
     "name": "stdout",
     "output_type": "stream",
     "text": [
      "href: https://www.google.com/maps/place/Lapangan+Bulutangkis+Cilibende+RT.02%2FRW.06/data=!4m7!3m6!1s0x2e69c42ccc465753:0x28f30e572581bc14!8m2!3d-6.5865014!4d106.8099665!16s%2Fg%2F11bwp7319z!19sChIJU1dGzCzEaS4RFLyBJVcO8yg?authuser=0&hl=id&rclk=1\n",
      "poi_name: Lapangan Bulutangkis Cilibende RT.02/RW.06\n",
      "rating: 4,7\n",
      "address: Lapangan Bulutangkis · CR75+9XW, RT.05/RW.02Buka 24 jam · 0881-0243-04045\n",
      "tags: Lapangan Bulutangkis · CR75+9XW, RT.05/RW.02\n",
      "\n"
     ]
    }
   ],
   "source": [
    "tes = soup.find_all('div', class_='bJzME tTVLSc')\n",
    "\n",
    "for cari in tes :\n",
    "    href = cari.find('a', class_='hfpxzc')\n",
    "    if href:\n",
    "        href_value = href.get('href')\n",
    "        print(\"href:\", href_value)\n",
    "        \n",
    "    poi_names = cari.find('div', class_='qBF1Pd fontHeadlineSmall')\n",
    "    if poi_names :\n",
    "        data_poi_name = poi_names.text.strip()\n",
    "        print(\"poi_name:\", data_poi_name)\n",
    "        \n",
    "    rating = cari.find('span', class_='MW4etd')\n",
    "    if rating :\n",
    "        ratings = rating.text.strip()\n",
    "        print(\"rating:\", ratings)\n",
    "        \n",
    "    # Mencari alamat dan tags dengan mengakses elemen kedua dan ketiga dengan class 'W4Efsd'\n",
    "    alamat_elem = cari.find_all('div', class_='W4Efsd')[1].text.strip()\n",
    "    if alamat_elem:\n",
    "        print(\"address:\", alamat_elem)\n",
    "        \n",
    "    tags_elem = cari.find_all('div', class_='W4Efsd')[2].text.strip()\n",
    "    if tags_elem:\n",
    "        print(\"tags:\", tags_elem)\n",
    "        \n",
    "    print()  # Untuk memisahkan setiap hasil\n"
   ]
  },
  {
   "cell_type": "code",
   "execution_count": 147,
   "metadata": {},
   "outputs": [],
   "source": [
    "import csv\n",
    "\n",
    "def scrape_data_to_csv(soup, nama_file=str):\n",
    "    #tes = soup.find_all('div', class_='bJzME tTVLSc')\n",
    "\n",
    "    # Membuka file CSV untuk menulis data\n",
    "    with open(nama_file, 'w', newline='', encoding='utf-8') as csvfile:\n",
    "        # Menulis header\n",
    "        fieldnames = ['href', 'poi_name', 'rating', 'address', 'tags']\n",
    "        writer = csv.DictWriter(csvfile, fieldnames=fieldnames, delimiter=';')\n",
    "        writer.writeheader()\n",
    "\n",
    "        for cari in soup:\n",
    "            href = cari.find('a', class_='hfpxzc')\n",
    "            href_value = href.get('href') if href else None\n",
    "            \n",
    "            poi_names = cari.find('div', class_='qBF1Pd fontHeadlineSmall')\n",
    "            data_poi_name = poi_names.text.strip() if poi_names else None\n",
    "            \n",
    "            rating = cari.find('span', class_='MW4etd')\n",
    "            ratings = rating.text.strip() if rating else None\n",
    "            \n",
    "            alamat_elem = cari.find_all('div', class_='W4Efsd')[1].text.strip()\n",
    "            \n",
    "            tags_elem = cari.find_all('div', class_='W4Efsd')[2].text.strip()\n",
    "            \n",
    "            # Menulis baris data ke dalam file CSV\n",
    "            writer.writerow({'href': href_value, 'poi_name': data_poi_name, 'rating': ratings, 'address': alamat_elem, 'tags': tags_elem})\n",
    "            \n",
    "    print(f\"Data telah disimpan ke dalam file {nama_file}\")\n",
    "\n",
    "# Contoh penggunaan:\n",
    "# Misalnya Anda memiliki objek soup yang sudah diinisialisasi sebelumnya\n",
    "# scrape_data_to_csv(soup)\n"
   ]
  },
  {
   "cell_type": "code",
   "execution_count": 148,
   "metadata": {},
   "outputs": [
    {
     "name": "stdout",
     "output_type": "stream",
     "text": [
      "Data telah disimpan ke dalam file scraped_data_testing5.csv\n"
     ]
    }
   ],
   "source": [
    "tes = soup.find_all('div', class_='bJzME tTVLSc')\n",
    "scrape_data_to_csv(tes, 'scraped_data_testing5.csv')"
   ]
  },
  {
   "cell_type": "code",
   "execution_count": 152,
   "metadata": {},
   "outputs": [
    {
     "name": "stdout",
     "output_type": "stream",
     "text": [
      "Scraping data dari: https://www.google.com/maps/search/Bulutangkis/@-0.8995325,100.4379122,12z?entry=ttu\n",
      "Data telah disimpan ke dalam file data_tempat.csv\n",
      "Selesai scraping dari: https://www.google.com/maps/search/Bulutangkis/@-0.8995325,100.4379122,12z?entry=ttu\n",
      "Scraping data dari: https://www.google.com/maps/search/Bulutangkis/@-6.2725674,106.810043,12z?entry=ttu\n",
      "Data telah disimpan ke dalam file data_tempat.csv\n",
      "Selesai scraping dari: https://www.google.com/maps/search/Bulutangkis/@-6.2725674,106.810043,12z?entry=ttu\n",
      "Scraping data dari: https://www.google.com/maps/search/Bulutangkis/@-6.5934944,106.7993574,12z?entry=ttu\n",
      "Data telah disimpan ke dalam file data_tempat.csv\n",
      "Selesai scraping dari: https://www.google.com/maps/search/Bulutangkis/@-6.5934944,106.7993574,12z?entry=ttu\n"
     ]
    }
   ],
   "source": [
    "import requests\n",
    "from bs4 import BeautifulSoup\n",
    "import csv\n",
    "\n",
    "# Definisikan fieldnames secara global\n",
    "fieldnames = ['href', 'poi_name', 'rating', 'address', 'tags']\n",
    "\n",
    "def scrape_data_to_csv(soup):\n",
    "    tes = soup.find_all('div', class_='bJzME tTVLSc')\n",
    "\n",
    "    with open('data_tempat.csv', 'a', newline='', encoding='utf-8') as csvfile:\n",
    "        writer = csv.DictWriter(csvfile, fieldnames=fieldnames, delimiter=';')\n",
    "\n",
    "        # Menulis header jika file kosong\n",
    "        if csvfile.tell() == 0:\n",
    "            writer.writeheader()\n",
    "\n",
    "        for cari in tes:\n",
    "            href = cari.find('a', class_='hfpxzc')\n",
    "            href_value = href.get('href') if href else None\n",
    "            \n",
    "            poi_names = cari.find('div', class_='qBF1Pd fontHeadlineSmall')\n",
    "            data_poi_name = poi_names.text.strip() if poi_names else None\n",
    "            \n",
    "            rating = cari.find('span', class_='MW4etd')\n",
    "            ratings = rating.text.strip() if rating else None\n",
    "            \n",
    "            alamat_elem = cari.find_all('div', class_='W4Efsd')[1].text.strip()\n",
    "            tags_elem = cari.find_all('div', class_='W4Efsd')[2].text.strip()\n",
    "            \n",
    "            writer.writerow({'href': href_value, 'poi_name': data_poi_name, 'rating': ratings, 'address': alamat_elem, 'tags': tags_elem})\n",
    "            \n",
    "    print(\"Data telah disimpan ke dalam file data_tempat.csv\")\n",
    "\n",
    "def scrape_google_maps_data(url):\n",
    "    response = requests.get(url)\n",
    "    soup = BeautifulSoup(response.content, 'html.parser')\n",
    "    scrape_data_to_csv(soup)\n",
    "\n",
    "urls = [\n",
    "    \"https://www.google.com/maps/search/Bulutangkis/@-0.8995325,100.4379122,12z?entry=ttu\",\n",
    "    \"https://www.google.com/maps/search/Bulutangkis/@-6.2725674,106.810043,12z?entry=ttu\",\n",
    "    \"https://www.google.com/maps/search/Bulutangkis/@-6.5934944,106.7993574,12z?entry=ttu\"\n",
    "]\n",
    "\n",
    "for url in urls:\n",
    "    print(\"Scraping data dari:\", url)\n",
    "    scrape_google_maps_data(url)\n",
    "    print(\"Selesai scraping dari:\", url)\n"
   ]
  },
  {
   "cell_type": "markdown",
   "metadata": {},
   "source": [
    "### Function 2"
   ]
  },
  {
   "cell_type": "code",
   "execution_count": null,
   "metadata": {},
   "outputs": [],
   "source": [
    "def check_exists_by_xpath(xpath):\n",
    "    try:\n",
    "        driver.find_element(By.XPATH, xpath)\n",
    "    except:\n",
    "        return False\n",
    "    return True\n",
    "\n",
    "\n",
    "def scroll_to_bottom(iteration=None):\n",
    "    xpath_sidebar = driver.find_element(By.XPATH, '/html/body/div[2]/div[3]/div[8]/div[9]/div/div/div[1]/div[2]/div/div[1]/div/div/div[1]/div[1]')\n",
    "    if(iteration == None):\n",
    "        driver.execute_script(\"arguments[0].scrollTo(0, arguments[0].scrollHeight)\", xpath_sidebar)\n",
    "        time.sleep(2)\n",
    "    else:\n",
    "        for i in range(1, iteration):\n",
    "            driver.execute_script(\"arguments[0].scrollTo(0, arguments[0].scrollHeight)\", xpath_sidebar)\n",
    "            time.sleep(2)\n",
    "            \n",
    "\n",
    "def url_hit(data_latitude, data_longitude) :\n",
    "    try : \n",
    "        for latitude, longitude in zip (data_latitude, data_longitude) :\n",
    "            start_time = time.time()\n",
    "            try : \n",
    "                url = f'https://www.google.com/maps/search/Bulutangkis/@{latitude},{longitude},12.58z?entry=ttu' \n",
    "                print(f\"Start in {url}\")\n",
    "                driver.get(url)\n",
    "                time.sleep(2)\n",
    "                \n",
    "                try :\n",
    "                    for i in range(1, 100):\n",
    "                        # scroll down to bottom sidebar\n",
    "                        scroll_to_bottom()\n",
    "\n",
    "                        # xpath_endsidebar = driver.find_element(By.XPATH, '/html/body/div[2]/div[3]/div[8]/div[9]/div/div/div[1]/div[2]/div/div[1]/div/div/div[1]/div[1]/div[243]/div/p/span/span')\n",
    "                        if(check_exists_by_xpath('/html/body/div[2]/div[3]/div[8]/div[9]/div/div/div[1]/div[2]/div/div[1]/div/div/div[1]/div[1]/div[243]/div/p/span/span')):\n",
    "                            scroll_to_bottom(2)\n",
    "                            print(\"End scroll down !!\")\n",
    "                            \n",
    "                            break\n",
    "                \n",
    "                except Exception as e :\n",
    "                    print(f\"Ada error ni di request {url} -> {e}\")\n",
    "                    \n",
    "                print(f'url {url} sudah selesai load')\n",
    "                \n",
    "                try :\n",
    "                    #start crawling data !\n",
    "                    scrape_data_to_csv()\n",
    "                except Exception as e :\n",
    "                    print(\"Terdapat error dibagian Crawling data(Function scrape_data)\")\n",
    "                \n",
    "            except TimeoutError :\n",
    "                print(f'Teeett habis waktu jadi error di {url}')\n",
    "                \n",
    "            end_time = time.time()\n",
    "            \n",
    "            execution_time = (end_time - start_time)/60\n",
    "            print(f\"Waktu yang dibutuhkan {execution_time:.2f} menit\")\n",
    "\n",
    "        print(\"Data sudah selesai di scrapping, horee !!!\" )\n",
    "        \n",
    "    except Exception as e :"
   ]
  },
  {
   "cell_type": "code",
   "execution_count": null,
   "metadata": {},
   "outputs": [],
   "source": []
  }
 ],
 "metadata": {
  "kernelspec": {
   "display_name": "Python 3",
   "language": "python",
   "name": "python3"
  },
  "language_info": {
   "codemirror_mode": {
    "name": "ipython",
    "version": 3
   },
   "file_extension": ".py",
   "mimetype": "text/x-python",
   "name": "python",
   "nbconvert_exporter": "python",
   "pygments_lexer": "ipython3",
   "version": "3.10.9"
  }
 },
 "nbformat": 4,
 "nbformat_minor": 2
}
