{
 "cells": [
  {
   "cell_type": "code",
   "execution_count": 14,
   "metadata": {},
   "outputs": [],
   "source": [
    "import pandas as pd\n",
    "import urllib3\n",
    "import json\n",
    "import csv\n",
    "import os\n",
    "import traceback\n",
    "import time"
   ]
  },
  {
   "cell_type": "markdown",
   "metadata": {},
   "source": [
    "## Files and input"
   ]
  },
  {
   "cell_type": "code",
   "execution_count": 15,
   "metadata": {},
   "outputs": [],
   "source": [
    "input_file = r'C:\\Users\\bputra\\OneDrive - ESRI Indonesia\\PT ESRI Indonesia\\Research\\code-script\\18_update_version_crawling_waze_ver2.0\\input\\sample_keyword_req_data_wisata_testing1.csv'\n",
    "output_file = r'C:\\Users\\bputra\\OneDrive - ESRI Indonesia\\PT ESRI Indonesia\\Research\\code-script\\18_update_version_crawling_waze_ver2.0\\output\\get_data_wisata_indonesia_testing1.csv'"
   ]
  },
  {
   "cell_type": "code",
   "execution_count": 16,
   "metadata": {},
   "outputs": [
    {
     "data": {
      "text/html": [
       "<div>\n",
       "<style scoped>\n",
       "    .dataframe tbody tr th:only-of-type {\n",
       "        vertical-align: middle;\n",
       "    }\n",
       "\n",
       "    .dataframe tbody tr th {\n",
       "        vertical-align: top;\n",
       "    }\n",
       "\n",
       "    .dataframe thead th {\n",
       "        text-align: right;\n",
       "    }\n",
       "</style>\n",
       "<table border=\"1\" class=\"dataframe\">\n",
       "  <thead>\n",
       "    <tr style=\"text-align: right;\">\n",
       "      <th></th>\n",
       "      <th>object_id</th>\n",
       "      <th>shape_length</th>\n",
       "      <th>shape_area</th>\n",
       "      <th>geometry</th>\n",
       "      <th>grid_id</th>\n",
       "      <th>keyword</th>\n",
       "      <th>min_x</th>\n",
       "      <th>min_y</th>\n",
       "      <th>max_x</th>\n",
       "      <th>max_y</th>\n",
       "    </tr>\n",
       "  </thead>\n",
       "  <tbody>\n",
       "    <tr>\n",
       "      <th>0</th>\n",
       "      <td>3690</td>\n",
       "      <td>0.366471</td>\n",
       "      <td>0.008394</td>\n",
       "      <td>Polygon</td>\n",
       "      <td>DZ-136</td>\n",
       "      <td>Wisata</td>\n",
       "      <td>106.744899</td>\n",
       "      <td>-6.380918</td>\n",
       "      <td>106.836517</td>\n",
       "      <td>-6.289301</td>\n",
       "    </tr>\n",
       "    <tr>\n",
       "      <th>1</th>\n",
       "      <td>3691</td>\n",
       "      <td>0.366471</td>\n",
       "      <td>0.008394</td>\n",
       "      <td>Polygon</td>\n",
       "      <td>EA-136</td>\n",
       "      <td>Wisata</td>\n",
       "      <td>106.836517</td>\n",
       "      <td>-6.380918</td>\n",
       "      <td>106.928135</td>\n",
       "      <td>-6.289301</td>\n",
       "    </tr>\n",
       "    <tr>\n",
       "      <th>2</th>\n",
       "      <td>3764</td>\n",
       "      <td>0.366471</td>\n",
       "      <td>0.008394</td>\n",
       "      <td>Polygon</td>\n",
       "      <td>DZ-135</td>\n",
       "      <td>Wisata</td>\n",
       "      <td>106.744899</td>\n",
       "      <td>-6.289301</td>\n",
       "      <td>106.836517</td>\n",
       "      <td>-6.197683</td>\n",
       "    </tr>\n",
       "    <tr>\n",
       "      <th>3</th>\n",
       "      <td>3765</td>\n",
       "      <td>0.366471</td>\n",
       "      <td>0.008394</td>\n",
       "      <td>Polygon</td>\n",
       "      <td>EA-135</td>\n",
       "      <td>Wisata</td>\n",
       "      <td>106.836517</td>\n",
       "      <td>-6.289301</td>\n",
       "      <td>106.928135</td>\n",
       "      <td>-6.197683</td>\n",
       "    </tr>\n",
       "    <tr>\n",
       "      <th>4</th>\n",
       "      <td>3837</td>\n",
       "      <td>0.366471</td>\n",
       "      <td>0.008394</td>\n",
       "      <td>Polygon</td>\n",
       "      <td>DZ-134</td>\n",
       "      <td>Wisata</td>\n",
       "      <td>106.744899</td>\n",
       "      <td>-6.197683</td>\n",
       "      <td>106.836517</td>\n",
       "      <td>-6.106065</td>\n",
       "    </tr>\n",
       "    <tr>\n",
       "      <th>5</th>\n",
       "      <td>3838</td>\n",
       "      <td>0.366471</td>\n",
       "      <td>0.008394</td>\n",
       "      <td>Polygon</td>\n",
       "      <td>EA-134</td>\n",
       "      <td>Wisata</td>\n",
       "      <td>106.836517</td>\n",
       "      <td>-6.197683</td>\n",
       "      <td>106.928135</td>\n",
       "      <td>-6.106065</td>\n",
       "    </tr>\n",
       "  </tbody>\n",
       "</table>\n",
       "</div>"
      ],
      "text/plain": [
       "   object_id  shape_length  shape_area geometry grid_id keyword       min_x  \\\n",
       "0       3690      0.366471    0.008394  Polygon  DZ-136  Wisata  106.744899   \n",
       "1       3691      0.366471    0.008394  Polygon  EA-136  Wisata  106.836517   \n",
       "2       3764      0.366471    0.008394  Polygon  DZ-135  Wisata  106.744899   \n",
       "3       3765      0.366471    0.008394  Polygon  EA-135  Wisata  106.836517   \n",
       "4       3837      0.366471    0.008394  Polygon  DZ-134  Wisata  106.744899   \n",
       "5       3838      0.366471    0.008394  Polygon  EA-134  Wisata  106.836517   \n",
       "\n",
       "      min_y       max_x     max_y  \n",
       "0 -6.380918  106.836517 -6.289301  \n",
       "1 -6.380918  106.928135 -6.289301  \n",
       "2 -6.289301  106.836517 -6.197683  \n",
       "3 -6.289301  106.928135 -6.197683  \n",
       "4 -6.197683  106.836517 -6.106065  \n",
       "5 -6.197683  106.928135 -6.106065  "
      ]
     },
     "execution_count": 16,
     "metadata": {},
     "output_type": "execute_result"
    }
   ],
   "source": [
    "df = pd.read_csv(input_file, delimiter=';')\n",
    "df"
   ]
  },
  {
   "cell_type": "markdown",
   "metadata": {},
   "source": [
    "> Parameter"
   ]
  },
  {
   "cell_type": "code",
   "execution_count": 17,
   "metadata": {},
   "outputs": [
    {
     "name": "stdout",
     "output_type": "stream",
     "text": [
      "('Wisata', 106.744899, 106.744899, 106.836517, -6.289301)\n",
      "('Wisata', 106.836517, 106.836517, 106.928135, -6.289301)\n",
      "('Wisata', 106.744899, 106.744899, 106.836517, -6.197683)\n",
      "('Wisata', 106.836517, 106.836517, 106.928135, -6.197683)\n",
      "('Wisata', 106.744899, 106.744899, 106.836517, -6.106065)\n",
      "('Wisata', 106.836517, 106.836517, 106.928135, -6.106065)\n"
     ]
    }
   ],
   "source": [
    "keyword = df['keyword']\n",
    "min_x = df['min_x']\n",
    "min_y = df['min_y']\n",
    "max_x = df['max_x']\n",
    "max_y = df['max_y']\n",
    "\n",
    "for i in zip(keyword, min_x, min_x, max_x, max_y):\n",
    "    print(i)"
   ]
  },
  {
   "cell_type": "markdown",
   "metadata": {},
   "source": [
    "## Function"
   ]
  },
  {
   "cell_type": "code",
   "execution_count": 23,
   "metadata": {},
   "outputs": [],
   "source": [
    "def crawling_data(keyword_data, min_y_data, min_x_data, max_y_data, max_x_data) :\n",
    "    url = f'https://www.waze.com/live-map/api/autocomplete/?q={keyword_data}&exp=8,10,12&v={min_y_data},{min_x_data};{max_y_data},{max_x_data}&lang=en'\n",
    "    print(url)\n",
    "    http = urllib3.PoolManager()\n",
    "    response = http.request('GET', url)\n",
    "    data = response.data.decode('ascii', 'ignore')\n",
    "    #print(data)\n",
    "    time.sleep(2)\n",
    "    \n",
    "    try :\n",
    "        test = json.loads(data)\n",
    "        print(test)\n",
    "    except :\n",
    "        print('error')"
   ]
  },
  {
   "cell_type": "code",
   "execution_count": 24,
   "metadata": {},
   "outputs": [
    {
     "name": "stdout",
     "output_type": "stream",
     "text": [
      "https://www.waze.com/live-map/api/autocomplete/?q=0    Wisata\n",
      "1    Wisata\n",
      "2    Wisata\n",
      "3    Wisata\n",
      "4    Wisata\n",
      "5    Wisata\n",
      "Name: keyword, dtype: object&exp=8,10,12&v=0   -6.380918\n",
      "1   -6.380918\n",
      "2   -6.289301\n",
      "3   -6.289301\n",
      "4   -6.197683\n",
      "5   -6.197683\n",
      "Name: min_y, dtype: float64,0    106.744899\n",
      "1    106.836517\n",
      "2    106.744899\n",
      "3    106.836517\n",
      "4    106.744899\n",
      "5    106.836517\n",
      "Name: min_x, dtype: float64;0   -6.289301\n",
      "1   -6.289301\n",
      "2   -6.197683\n",
      "3   -6.197683\n",
      "4   -6.106065\n",
      "5   -6.106065\n",
      "Name: max_y, dtype: float64,0    106.836517\n",
      "1    106.928135\n",
      "2    106.836517\n",
      "3    106.928135\n",
      "4    106.836517\n",
      "5    106.928135\n",
      "Name: max_x, dtype: float64&lang=en\n",
      "{'statusCode': 500, 'message': 'Internal server error'}\n"
     ]
    }
   ],
   "source": [
    "crawling_data(keyword_data=keyword, min_y_data=min_y, min_x_data=min_x, max_y_data=max_y, max_x_data=max_x)"
   ]
  },
  {
   "cell_type": "code",
   "execution_count": 25,
   "metadata": {},
   "outputs": [
    {
     "name": "stdout",
     "output_type": "stream",
     "text": [
      "https://www.waze.com/live-map/api/autocomplete/?q=Wisata&exp=8,10,12&v=-6.380918,106.744899;-6.289301,106.836517&lang=en\n",
      "[{'name': 'Hotel Wisata Indah', 'cleanName': 'Hotel Wisata Indah', 'address': 'Kemang Selatan 8, Jakarta Selatan', 'venueId': 'venues.69994185.700007389.3153425', 'latLng': {'lat': -6.2675981, 'lng': 106.81382959999999}}, {'name': 'Peternakan Susu Segar Cibugary', 'cleanName': 'Peternakan Susu Segar Cibugary', 'address': 'Komplek Peternakan Sapi Perah, Jakarta Timur', 'venueId': 'venues.70059720.700662740.6853337', 'latLng': {'lat': -6.356848599999999, 'lng': 106.90619339999999}}, {'name': 'Wisata Pemancingan Liung Sanim', 'cleanName': 'Wisata Pemancingan Liung Sanim', 'address': 'Jakarta Timur', 'venueId': 'venues.70059721.700728282.4526997', 'latLng': {'lat': -6.3037507999999995, 'lng': 106.920158}}, {'name': 'Kebun Raya Cibodas', 'cleanName': 'Kebun Raya Cibodas', 'address': 'Taman Cibodas, Cipanas (Cianjur)', 'venueId': 'venues.70125253.701318062.2288272', 'latLng': {'lat': -6.7403911999999995, 'lng': 107.0091365}}, {'name': 'Curug Cilember', 'cleanName': 'Curug Cilember', 'address': 'Jalan Curug Cilember, Cisarua', 'venueId': 'venues.70059717.700924854.2077098', 'latLng': {'lat': -6.6583565, 'lng': 106.94933379999999}}, {'name': 'Taman Wisata Pulau Situ Gintung', 'cleanName': 'Taman Wisata Pulau Situ Gintung', 'address': 'Indonesia', 'venueId': 'waze.street-39067598.none', 'latLng': {'lat': -6.310273899999999, 'lng': 106.76256769999999}}, {'name': 'Wisata air situ gintung', 'cleanName': 'Wisata air situ gintung', 'address': 'Pisangan Raya, Tangerang Selatan', 'venueId': 'venues.69994185.699679705.25771181', 'latLng': {'lat': -6.309762, 'lng': 106.7625046}}, {'name': 'Wisata alam', 'cleanName': 'Wisata alam', 'address': '', 'venueId': 'venues.70125256.700990419.7869812', 'latLng': {'lat': -6.3651618999999995, 'lng': 106.9585037}}, {'name': 'Wisata Jatiluhur', 'cleanName': 'Wisata Jatiluhur', 'address': 'Jalan Waduk Jatiluhur, Jatiluhur', 'venueId': 'venues.70387399.703873987.5555775', 'latLng': {'lat': -6.5291936999999995, 'lng': 107.3954969}}, {'name': 'Tirta Lebak Buana', 'cleanName': 'Tirta Lebak Buana', 'address': 'N9 Jalan Raya Rangkasbitung-Bogor, Cipanas (Lebak)', 'venueId': 'venues.69732039.697320385.8720539', 'latLng': {'lat': -6.5488338, 'lng': 106.39942119999999}}]\n",
      "https://www.waze.com/live-map/api/autocomplete/?q=Wisata&exp=8,10,12&v=-6.380918,106.836517;-6.289301,106.928135&lang=en\n",
      "[{'name': 'Peternakan Susu Segar Cibugary', 'cleanName': 'Peternakan Susu Segar Cibugary', 'address': 'Komplek Peternakan Sapi Perah, Jakarta Timur', 'venueId': 'venues.70059720.700662740.6853337', 'latLng': {'lat': -6.356848599999999, 'lng': 106.90619339999999}}, {'name': 'Wisata Pemancingan Liung Sanim', 'cleanName': 'Wisata Pemancingan Liung Sanim', 'address': 'Jakarta Timur', 'venueId': 'venues.70059721.700728282.4526997', 'latLng': {'lat': -6.3037507999999995, 'lng': 106.920158}}, {'name': 'Wisata alam', 'cleanName': 'Wisata alam', 'address': '', 'venueId': 'venues.70125256.700990419.7869812', 'latLng': {'lat': -6.3651618999999995, 'lng': 106.9585037}}, {'name': 'Hotel Wisata Indah', 'cleanName': 'Hotel Wisata Indah', 'address': 'Kemang Selatan 8, Jakarta Selatan', 'venueId': 'venues.69994185.700007389.3153425', 'latLng': {'lat': -6.2675981, 'lng': 106.81382959999999}}, {'name': 'Kebun Raya Cibodas', 'cleanName': 'Kebun Raya Cibodas', 'address': 'Taman Cibodas, Cipanas (Cianjur)', 'venueId': 'venues.70125253.701318062.2288272', 'latLng': {'lat': -6.7403911999999995, 'lng': 107.0091365}}, {'name': 'Curug Cilember', 'cleanName': 'Curug Cilember', 'address': 'Jalan Curug Cilember, Cisarua', 'venueId': 'venues.70059717.700924854.2077098', 'latLng': {'lat': -6.6583565, 'lng': 106.94933379999999}}, {'name': 'Taman Wisata', 'cleanName': 'Taman Wisata', 'address': 'Indonesia', 'venueId': 'waze.street-34646238.none', 'latLng': {'lat': -6.367931200000001, 'lng': 106.89829669999999}}, {'name': 'Pondok Wisata Hobi Hobi', 'cleanName': 'Pondok Wisata Hobi Hobi', 'address': 'Indonesia', 'venueId': 'waze.street-43030446.none', 'latLng': {'lat': -6.2988342, 'lng': 106.922585}}, {'name': 'Wisata Jatiluhur', 'cleanName': 'Wisata Jatiluhur', 'address': 'Jalan Waduk Jatiluhur, Jatiluhur', 'venueId': 'venues.70387399.703873987.5555775', 'latLng': {'lat': -6.5291936999999995, 'lng': 107.3954969}}, {'name': 'Wisata Kawung 3', 'cleanName': 'Wisata Kawung 3', 'address': 'Cikarang', 'venueId': 'venues.70256329.702825434.23780556', 'latLng': {'lat': -6.2975916, 'lng': 107.24437089999999}}]\n",
      "https://www.waze.com/live-map/api/autocomplete/?q=Wisata&exp=8,10,12&v=-6.289301,106.744899;-6.197683,106.836517&lang=en\n",
      "[{'name': 'Hotel Wisata Indah', 'cleanName': 'Hotel Wisata Indah', 'address': 'Kemang Selatan 8, Jakarta Selatan', 'venueId': 'venues.69994185.700007389.3153425', 'latLng': {'lat': -6.2675981, 'lng': 106.81382959999999}}, {'name': 'Peternakan Susu Segar Cibugary', 'cleanName': 'Peternakan Susu Segar Cibugary', 'address': 'Komplek Peternakan Sapi Perah, Jakarta Timur', 'venueId': 'venues.70059720.700662740.6853337', 'latLng': {'lat': -6.356848599999999, 'lng': 106.90619339999999}}, {'name': 'Wisata Pemancingan Liung Sanim', 'cleanName': 'Wisata Pemancingan Liung Sanim', 'address': 'Jakarta Timur', 'venueId': 'venues.70059721.700728282.4526997', 'latLng': {'lat': -6.3037507999999995, 'lng': 106.920158}}, {'name': 'Kebun Raya Cibodas', 'cleanName': 'Kebun Raya Cibodas', 'address': 'Taman Cibodas, Cipanas (Cianjur)', 'venueId': 'venues.70125253.701318062.2288272', 'latLng': {'lat': -6.7403911999999995, 'lng': 107.0091365}}, {'name': 'Curug Cilember', 'cleanName': 'Curug Cilember', 'address': 'Jalan Curug Cilember, Cisarua', 'venueId': 'venues.70059717.700924854.2077098', 'latLng': {'lat': -6.6583565, 'lng': 106.94933379999999}}, {'name': 'Wisata alam', 'cleanName': 'Wisata alam', 'address': '', 'venueId': 'venues.70125256.700990419.7869812', 'latLng': {'lat': -6.3651618999999995, 'lng': 106.9585037}}, {'name': 'Wisata Jatiluhur', 'cleanName': 'Wisata Jatiluhur', 'address': 'Jalan Waduk Jatiluhur, Jatiluhur', 'venueId': 'venues.70387399.703873987.5555775', 'latLng': {'lat': -6.5291936999999995, 'lng': 107.3954969}}, {'name': 'Wisata Air Kencana Tirta Eleven', 'cleanName': 'Wisata Air Kencana Tirta Eleven', 'address': 'Balaraja', 'venueId': 'venues.69732042.697648101.6944884', 'latLng': {'lat': -6.1868491, 'lng': 106.4490835}}, {'name': 'Tirta Lebak Buana', 'cleanName': 'Tirta Lebak Buana', 'address': 'N9 Jalan Raya Rangkasbitung-Bogor, Cipanas (Lebak)', 'venueId': 'venues.69732039.697320385.8720539', 'latLng': {'lat': -6.5488338, 'lng': 106.39942119999999}}, {'name': 'Hotel Wisata Baru', 'cleanName': 'Hotel Wisata Baru', 'address': 'N1 Maulana Yusuf, Serang', 'venueId': 'venues.69600971.695747565.4240072', 'latLng': {'lat': -6.114892299999999, 'lng': 106.158312}}]\n",
      "https://www.waze.com/live-map/api/autocomplete/?q=Wisata&exp=8,10,12&v=-6.289301,106.836517;-6.197683,106.928135&lang=en\n",
      "[{'name': 'Wisata Pemancingan Liung Sanim', 'cleanName': 'Wisata Pemancingan Liung Sanim', 'address': 'Jakarta Timur', 'venueId': 'venues.70059721.700728282.4526997', 'latLng': {'lat': -6.3037507999999995, 'lng': 106.920158}}, {'name': 'Hotel Wisata Indah', 'cleanName': 'Hotel Wisata Indah', 'address': 'Kemang Selatan 8, Jakarta Selatan', 'venueId': 'venues.69994185.700007389.3153425', 'latLng': {'lat': -6.2675981, 'lng': 106.81382959999999}}, {'name': 'Peternakan Susu Segar Cibugary', 'cleanName': 'Peternakan Susu Segar Cibugary', 'address': 'Komplek Peternakan Sapi Perah, Jakarta Timur', 'venueId': 'venues.70059720.700662740.6853337', 'latLng': {'lat': -6.356848599999999, 'lng': 106.90619339999999}}, {'name': 'Wisata alam', 'cleanName': 'Wisata alam', 'address': '', 'venueId': 'venues.70125256.700990419.7869812', 'latLng': {'lat': -6.3651618999999995, 'lng': 106.9585037}}, {'name': 'Kebun Raya Cibodas', 'cleanName': 'Kebun Raya Cibodas', 'address': 'Taman Cibodas, Cipanas (Cianjur)', 'venueId': 'venues.70125253.701318062.2288272', 'latLng': {'lat': -6.7403911999999995, 'lng': 107.0091365}}, {'name': 'Curug Cilember', 'cleanName': 'Curug Cilember', 'address': 'Jalan Curug Cilember, Cisarua', 'venueId': 'venues.70059717.700924854.2077098', 'latLng': {'lat': -6.6583565, 'lng': 106.94933379999999}}, {'name': 'Wisata Jatiluhur', 'cleanName': 'Wisata Jatiluhur', 'address': 'Jalan Waduk Jatiluhur, Jatiluhur', 'venueId': 'venues.70387399.703873987.5555775', 'latLng': {'lat': -6.5291936999999995, 'lng': 107.3954969}}, {'name': 'Pondok Wisata Hobi Hobi', 'cleanName': 'Pondok Wisata Hobi Hobi', 'address': 'Indonesia', 'venueId': 'waze.street-43030446.none', 'latLng': {'lat': -6.2988342, 'lng': 106.922585}}, {'name': 'Wisata Kawung 3', 'cleanName': 'Wisata Kawung 3', 'address': 'Cikarang', 'venueId': 'venues.70256329.702825434.23780556', 'latLng': {'lat': -6.2975916, 'lng': 107.24437089999999}}, {'name': 'Tirta Lebak Buana', 'cleanName': 'Tirta Lebak Buana', 'address': 'N9 Jalan Raya Rangkasbitung-Bogor, Cipanas (Lebak)', 'venueId': 'venues.69732039.697320385.8720539', 'latLng': {'lat': -6.5488338, 'lng': 106.39942119999999}}]\n",
      "https://www.waze.com/live-map/api/autocomplete/?q=Wisata&exp=8,10,12&v=-6.197683,106.744899;-6.106065,106.836517&lang=en\n",
      "[{'name': 'Hotel Wisata Indah', 'cleanName': 'Hotel Wisata Indah', 'address': 'Kemang Selatan 8, Jakarta Selatan', 'venueId': 'venues.69994185.700007389.3153425', 'latLng': {'lat': -6.2675981, 'lng': 106.81382959999999}}, {'name': 'Peternakan Susu Segar Cibugary', 'cleanName': 'Peternakan Susu Segar Cibugary', 'address': 'Komplek Peternakan Sapi Perah, Jakarta Timur', 'venueId': 'venues.70059720.700662740.6853337', 'latLng': {'lat': -6.356848599999999, 'lng': 106.90619339999999}}, {'name': 'Kebun Raya Cibodas', 'cleanName': 'Kebun Raya Cibodas', 'address': 'Taman Cibodas, Cipanas (Cianjur)', 'venueId': 'venues.70125253.701318062.2288272', 'latLng': {'lat': -6.7403911999999995, 'lng': 107.0091365}}, {'name': 'Wisata Pemancingan Liung Sanim', 'cleanName': 'Wisata Pemancingan Liung Sanim', 'address': 'Jakarta Timur', 'venueId': 'venues.70059721.700728282.4526997', 'latLng': {'lat': -6.3037507999999995, 'lng': 106.920158}}, {'name': 'Curug Cilember', 'cleanName': 'Curug Cilember', 'address': 'Jalan Curug Cilember, Cisarua', 'venueId': 'venues.70059717.700924854.2077098', 'latLng': {'lat': -6.6583565, 'lng': 106.94933379999999}}, {'name': 'Wisata Jatiluhur', 'cleanName': 'Wisata Jatiluhur', 'address': 'Jalan Waduk Jatiluhur, Jatiluhur', 'venueId': 'venues.70387399.703873987.5555775', 'latLng': {'lat': -6.5291936999999995, 'lng': 107.3954969}}, {'name': 'Wisata alam', 'cleanName': 'Wisata alam', 'address': '', 'venueId': 'venues.70125256.700990419.7869812', 'latLng': {'lat': -6.3651618999999995, 'lng': 106.9585037}}, {'name': 'Taman Wisata Alam', 'cleanName': 'Taman Wisata Alam', 'address': 'Indonesia', 'venueId': 'waze.street-45082973.none', 'latLng': {'lat': -6.107148899999999, 'lng': 106.73304089999999}}, {'name': 'Kawasan Wisata Ancol', 'cleanName': 'Kawasan Wisata Ancol', 'address': 'Indonesia', 'venueId': 'waze.street-22979323.none', 'latLng': {'lat': -6.119292499999999, 'lng': 106.8522308}}, {'name': 'Wisata Air Kencana Tirta Eleven', 'cleanName': 'Wisata Air Kencana Tirta Eleven', 'address': 'Balaraja', 'venueId': 'venues.69732042.697648101.6944884', 'latLng': {'lat': -6.1868491, 'lng': 106.4490835}}]\n",
      "https://www.waze.com/live-map/api/autocomplete/?q=Wisata&exp=8,10,12&v=-6.197683,106.836517;-6.106065,106.928135&lang=en\n",
      "[{'name': 'Hotel Wisata Indah', 'cleanName': 'Hotel Wisata Indah', 'address': 'Kemang Selatan 8, Jakarta Selatan', 'venueId': 'venues.69994185.700007389.3153425', 'latLng': {'lat': -6.2675981, 'lng': 106.81382959999999}}, {'name': 'Kawasan Wisata Ancol', 'cleanName': 'Kawasan Wisata Ancol', 'address': 'Indonesia', 'venueId': 'waze.street-22979323.none', 'latLng': {'lat': -6.119292499999999, 'lng': 106.8522308}}, {'name': 'Wisata Pemancingan Liung Sanim', 'cleanName': 'Wisata Pemancingan Liung Sanim', 'address': 'Jakarta Timur', 'venueId': 'venues.70059721.700728282.4526997', 'latLng': {'lat': -6.3037507999999995, 'lng': 106.920158}}, {'name': 'Peternakan Susu Segar Cibugary', 'cleanName': 'Peternakan Susu Segar Cibugary', 'address': 'Komplek Peternakan Sapi Perah, Jakarta Timur', 'venueId': 'venues.70059720.700662740.6853337', 'latLng': {'lat': -6.356848599999999, 'lng': 106.90619339999999}}, {'name': 'Kebun Raya Cibodas', 'cleanName': 'Kebun Raya Cibodas', 'address': 'Taman Cibodas, Cipanas (Cianjur)', 'venueId': 'venues.70125253.701318062.2288272', 'latLng': {'lat': -6.7403911999999995, 'lng': 107.0091365}}, {'name': 'Curug Cilember', 'cleanName': 'Curug Cilember', 'address': 'Jalan Curug Cilember, Cisarua', 'venueId': 'venues.70059717.700924854.2077098', 'latLng': {'lat': -6.6583565, 'lng': 106.94933379999999}}, {'name': 'Wisata alam', 'cleanName': 'Wisata alam', 'address': '', 'venueId': 'venues.70125256.700990419.7869812', 'latLng': {'lat': -6.3651618999999995, 'lng': 106.9585037}}, {'name': 'Wisata Jatiluhur', 'cleanName': 'Wisata Jatiluhur', 'address': 'Jalan Waduk Jatiluhur, Jatiluhur', 'venueId': 'venues.70387399.703873987.5555775', 'latLng': {'lat': -6.5291936999999995, 'lng': 107.3954969}}, {'name': 'Wisata Kawung 3', 'cleanName': 'Wisata Kawung 3', 'address': 'Cikarang', 'venueId': 'venues.70256329.702825434.23780556', 'latLng': {'lat': -6.2975916, 'lng': 107.24437089999999}}, {'name': 'Wisata Air Kencana Tirta Eleven', 'cleanName': 'Wisata Air Kencana Tirta Eleven', 'address': 'Balaraja', 'venueId': 'venues.69732042.697648101.6944884', 'latLng': {'lat': -6.1868491, 'lng': 106.4490835}}]\n"
     ]
    }
   ],
   "source": [
    "import pandas as pd\n",
    "import urllib3\n",
    "import json\n",
    "import csv\n",
    "import os\n",
    "import traceback\n",
    "import time\n",
    "\n",
    "input_file = r'C:\\Users\\bputra\\OneDrive - ESRI Indonesia\\PT ESRI Indonesia\\Research\\code-script\\18_update_version_crawling_waze_ver2.0\\input\\sample_keyword_req_data_wisata_testing1.csv'\n",
    "output_file = r'C:\\Users\\bputra\\OneDrive - ESRI Indonesia\\PT ESRI Indonesia\\Research\\code-script\\18_update_version_crawling_waze_ver2.0\\output\\get_data_wisata_indonesia_testing1.csv'\n",
    "\n",
    "df = pd.read_csv(input_file, delimiter=';')\n",
    "\n",
    "def crawling_data(keyword_data, min_y_data, min_x_data, max_y_data, max_x_data):\n",
    "    url = f'https://www.waze.com/live-map/api/autocomplete/?q={keyword_data}&exp=8,10,12&v={min_y_data},{min_x_data};{max_y_data},{max_x_data}&lang=en'\n",
    "    print(url)\n",
    "    http = urllib3.PoolManager()\n",
    "    response = http.request('GET', url)\n",
    "    data = response.data.decode('ascii', 'ignore')\n",
    "    # print(data)\n",
    "    time.sleep(2)\n",
    "    \n",
    "    try:\n",
    "        test = json.loads(data)\n",
    "        print(test)\n",
    "    except Exception as e:\n",
    "        print('error:', e)\n",
    "\n",
    "for _, row in df.iterrows():\n",
    "    crawling_data(keyword_data=row['keyword'], min_y_data=row['min_y'], min_x_data=row['min_x'], max_y_data=row['max_y'], max_x_data=row['max_x'])\n"
   ]
  },
  {
   "cell_type": "code",
   "execution_count": 30,
   "metadata": {},
   "outputs": [
    {
     "name": "stdout",
     "output_type": "stream",
     "text": [
      "start crawling https://www.waze.com/live-map/api/autocomplete/?q=Wisata&exp=8,10,12&v=-6.380918,106.744899;-6.289301,106.836517&lang=en\n",
      "start crawling https://www.waze.com/live-map/api/autocomplete/?q=Wisata&exp=8,10,12&v=-6.380918,106.836517;-6.289301,106.928135&lang=en\n",
      "Data sudah selesai di Scrapping !!! C:\\Users\\bputra\\OneDrive - ESRI Indonesia\\PT ESRI Indonesia\\Research\\code-script\\18_update_version_crawling_waze_ver2.0\\output\\get_data_wisata_indonesia_testing2.csv\n"
     ]
    }
   ],
   "source": [
    "import pandas as pd\n",
    "import urllib3\n",
    "import json\n",
    "import csv\n",
    "import os\n",
    "import traceback\n",
    "import time\n",
    "\n",
    "input_file = r'C:\\Users\\bputra\\OneDrive - ESRI Indonesia\\PT ESRI Indonesia\\Research\\code-script\\18_update_version_crawling_waze_ver2.0\\input\\sample_keyword_req_data_wisata_testing1.csv'\n",
    "output_file = r'C:\\Users\\bputra\\OneDrive - ESRI Indonesia\\PT ESRI Indonesia\\Research\\code-script\\18_update_version_crawling_waze_ver2.0\\output\\get_data_wisata_indonesia_testing2.csv'\n",
    "\n",
    "df = pd.read_csv(input_file, delimiter=';')\n",
    "\n",
    "def crawling_data(keyword_data, min_y_data, min_x_data, max_y_data, max_x_data) :\n",
    "    url = f'https://www.waze.com/live-map/api/autocomplete/?q={keyword_data}&exp=8,10,12&v={min_y_data},{min_x_data};{max_y_data},{max_x_data}&lang=en'\n",
    "    print(f'start crawling {url}')\n",
    "    http = urllib3.PoolManager()\n",
    "    response = http.request('GET', url)\n",
    "    data = response.data.decode('ascii', 'ignore')\n",
    "    \n",
    "    time.sleep(2)\n",
    "    \n",
    "    try:\n",
    "        json_data = json.loads(data)\n",
    "        return json_data\n",
    "    except Exception as e:\n",
    "        print('Error:', e)\n",
    "        traceback.print_exc()\n",
    "        return []\n",
    "\n",
    "# Write data to CSV file\n",
    "with open(output_file, mode='w', newline='', encoding='utf-8') as csv_file:\n",
    "    fieldnames = ['name', 'cleanName', 'address', 'venueId', 'lat', 'lng']\n",
    "    writer = csv.DictWriter(csv_file, fieldnames=fieldnames, delimiter=';')\n",
    "    \n",
    "    # Write header\n",
    "    writer.writeheader()\n",
    "    try :\n",
    "        for _, row in df.iterrows():\n",
    "            try :\n",
    "                data = crawling_data(keyword_data=row['keyword'], min_y_data=row['min_y'], min_x_data=row['min_x'], max_y_data=row['max_y'], max_x_data=row['max_x'])\n",
    "                for item in data:\n",
    "                    lat = item['latLng']['lat']\n",
    "                    lng = item['latLng']['lng']\n",
    "                    del item['latLng']\n",
    "                    item['lat'] = lat\n",
    "                    item['lng'] = lng\n",
    "                    writer.writerow(item)\n",
    "            except Exception as e :\n",
    "                print(f\"Error di function bagian crawling/collect data {e}\")\n",
    "    except Exception as e :\n",
    "        print(f\"Terdapat error {e}\")\n",
    "\n",
    "print(\"Data sudah selesai di Scrapping !!!\", output_file)\n"
   ]
  }
 ],
 "metadata": {
  "kernelspec": {
   "display_name": "Python 3",
   "language": "python",
   "name": "python3"
  },
  "language_info": {
   "codemirror_mode": {
    "name": "ipython",
    "version": 3
   },
   "file_extension": ".py",
   "mimetype": "text/x-python",
   "name": "python",
   "nbconvert_exporter": "python",
   "pygments_lexer": "ipython3",
   "version": "3.10.9"
  }
 },
 "nbformat": 4,
 "nbformat_minor": 2
}
