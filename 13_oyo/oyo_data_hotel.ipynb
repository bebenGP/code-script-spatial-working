{
 "cells": [
  {
   "cell_type": "code",
   "execution_count": 3,
   "metadata": {},
   "outputs": [],
   "source": [
    "import requests\n",
    "import csv\n",
    "import time\n",
    "\n",
    "# URL untuk mengambil data\n",
    "base_url = \"https://www.oyorooms.com/api/pwa/nearbyplaces?additional_fields=point_of_interests&filters%5Bhotel_ids%5D=\"\n",
    "\n",
    "# Tentukan nama file CSV\n",
    "output_folder = r\"C:\\PT ESRI Indonesia\\Research\\code-script\\13_oyo\\output\"\n",
    "csv_file = f\"{output_folder}\\\\oyo_data_testing1.csv\""
   ]
  },
  {
   "cell_type": "code",
   "execution_count": 9,
   "metadata": {},
   "outputs": [
    {
     "name": "stdout",
     "output_type": "stream",
     "text": [
      "Data : 9997\n",
      "Data : 9998\n",
      "Data : 9999\n",
      "Data : 10000\n",
      "Data : 10001\n",
      "Data : 10002\n",
      "Data telah ditulis ke C:\\PT ESRI Indonesia\\Research\\code-script\\13_oyo\\output\\oyo_data_testing1.csv.\n"
     ]
    }
   ],
   "source": [
    "import requests\n",
    "import csv\n",
    "import time\n",
    "\n",
    "# URL untuk mengambil data\n",
    "base_url = \"https://www.oyorooms.com/api/pwa/nearbyplaces?additional_fields=point_of_interests&filters%5Bhotel_ids%5D=\"\n",
    "\n",
    "# Tulis data ke dalam file CSV\n",
    "with open(csv_file, mode='w', newline='', encoding='utf-8') as file:\n",
    "    writer = csv.writer(file, delimiter=';')\n",
    "    \n",
    "    # Tulis header\n",
    "    writer.writerow([\"source\", \"id\", \"name\", \"latitude\", \"longitude\", \"distance\", \"categories\", 'subcategories', 'oyo_id', 'address', 'hotel_type'])\n",
    "            \n",
    "    for id_hotel in range (9997, 10003) :\n",
    "        print('Data :', id_hotel)\n",
    "        \n",
    "        if id_hotel in (10000, 20000, 30000, 40000, 50000, 60000, 70000, 80000, 90000, 100000) :\n",
    "            time.sleep(1800)\n",
    "        \n",
    "        url = base_url + str(id_hotel)\n",
    "        # Ambil data dari URL\n",
    "        header = {      \n",
    "                'Sec-Ch-Ua' : '\"Chromium\";v=\"118\", \"Google Chrome\";v=\"118\", \"Not=A?Brand\";v=\"99\"',\n",
    "                'Sec-Ch-Ua-Mobile' : '?0',\n",
    "                'Sec-Ch-Ua-Platform' : '\"Windows\"',\n",
    "                'Sec-Fetch-Dest' : 'empty',\n",
    "                'Sec-Fetch-Mode' : 'cors',\n",
    "                'Sec-Fetch-Site' : 'same-origin',\n",
    "                'User-Agent' : 'Mozilla/5.0 (Windows NT 10.0; Win64; x64) AppleWebKit/537.36 (KHTML, like Gecko) Chrome/118.0.0.0 Safari/537.36',\n",
    "                'Xsrf-Token' : 'wv3D3Mhr-whZzCCMb-wvI3DPM5hgwMFboMQk'\n",
    "            }\n",
    "                \n",
    "        response = requests.get(url, headers=header)\n",
    "        data = response.json()\n",
    "\n",
    "        # Ambil request_id\n",
    "        request_id = data[\"request_id\"]\n",
    "\n",
    "        # Ambil array hotels\n",
    "        hotels = data.get(\"hotels\", [])\n",
    "\n",
    "        # Ambil poin minat dari setiap hotel\n",
    "        point_of_interests = []\n",
    "        for hotel in hotels:\n",
    "            point_of_interests.extend(hotel.get(\"point_of_interests\", []))\n",
    "        \n",
    "        # Tulis data point_of_interests\n",
    "        for poi in point_of_interests:\n",
    "            poi_id = poi.get(\"id\", \"\")\n",
    "            poi_name = poi.get(\"name\", \"\")\n",
    "            poi_latitude = poi.get(\"latitude\", \"\")\n",
    "            poi_longitude = poi.get(\"longitude\", \"\")\n",
    "            poi_distance = poi.get(\"distance\", \"\")\n",
    "            poi_categories = poi.get(\"categories\", \"\")\n",
    "            poi_subcategories = poi.get(\"sub_categories\",\"\")\n",
    "            \n",
    "            writer.writerow([\"point_of_interests\", poi_id, poi_name, poi_latitude, poi_longitude, poi_distance, poi_categories, poi_subcategories, \"\", \"\", \"\"])\n",
    "\n",
    "        # Tulis data hotels\n",
    "        for hotel in hotels:\n",
    "            longitude = hotel.get(\"longitude\", \"\")\n",
    "            latitude = hotel.get(\"latitude\", \"\")\n",
    "            id = hotel.get(\"id\", \"\")\n",
    "            oyo_id = hotel.get(\"oyo_id\", \"\")\n",
    "            category = hotel.get(\"category\", \"\")\n",
    "            name = hotel.get(\"name\", \"\")\n",
    "            address = hotel.get(\"address\", \"\")\n",
    "            hotel_type = hotel.get(\"hotel_type\", \"\")\n",
    "            \n",
    "            writer.writerow([\"hotels\", id, name, latitude, longitude, \"\", category, \"\", oyo_id, address, hotel_type])\n",
    "            \n",
    "        time.sleep(5)\n",
    "    print(f\"Data telah ditulis ke {csv_file}.\")\n"
   ]
  }
 ],
 "metadata": {
  "kernelspec": {
   "display_name": "Python 3",
   "language": "python",
   "name": "python3"
  },
  "language_info": {
   "codemirror_mode": {
    "name": "ipython",
    "version": 3
   },
   "file_extension": ".py",
   "mimetype": "text/x-python",
   "name": "python",
   "nbconvert_exporter": "python",
   "pygments_lexer": "ipython3",
   "version": "3.10.9"
  }
 },
 "nbformat": 4,
 "nbformat_minor": 2
}
