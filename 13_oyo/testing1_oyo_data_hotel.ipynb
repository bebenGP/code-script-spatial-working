{
 "cells": [
  {
   "cell_type": "code",
   "execution_count": null,
   "metadata": {},
   "outputs": [],
   "source": [
    "import requests\n",
    "import csv\n",
    "import time\n",
    "import re"
   ]
  },
  {
   "cell_type": "code",
   "execution_count": 1,
   "metadata": {},
   "outputs": [],
   "source": [
    "base_url = \"https://www.oyorooms.com/api/pwa/nearbyplaces?additional_fields=point_of_interests&filters%5Bhotel_ids%5D=\"\n",
    "output_folder = r\"C:\\PT ESRI Indonesia\\Research\\code-script\\13_oyo\\output\"\n",
    "file_output = f\"{output_folder}\\\\oyo_data_testing1.csv\""
   ]
  },
  {
   "cell_type": "code",
   "execution_count": null,
   "metadata": {},
   "outputs": [],
   "source": [
    "with open(file_output, 'w', newline='', encoding='utf-8') as csvfile :\n",
    "    writer = csv.writer(csvfile, delimiter=';')"
   ]
  },
  {
   "cell_type": "code",
   "execution_count": 24,
   "metadata": {},
   "outputs": [
    {
     "name": "stdout",
     "output_type": "stream",
     "text": [
      "Data telah ditulis ke data_testing1.csv.\n"
     ]
    }
   ],
   "source": [
    "import requests\n",
    "import csv\n",
    "\n",
    "# URL untuk mengambil data\n",
    "url = \"https://www.oyorooms.com/api/pwa/nearbyplaces?additional_fields=point_of_interests&filters%5Bhotel_ids%5D=104970\"\n",
    "\n",
    "# Ambil data dari URL\n",
    "header = {      \n",
    "        'Sec-Ch-Ua' : '\"Chromium\";v=\"118\", \"Google Chrome\";v=\"118\", \"Not=A?Brand\";v=\"99\"',\n",
    "        'Sec-Ch-Ua-Mobile' : '?0',\n",
    "        'Sec-Ch-Ua-Platform' : '\"Windows\"',\n",
    "        'Sec-Fetch-Dest' : 'empty',\n",
    "        'Sec-Fetch-Mode' : 'cors',\n",
    "        'Sec-Fetch-Site' : 'same-origin',\n",
    "        'User-Agent' : 'Mozilla/5.0 (Windows NT 10.0; Win64; x64) AppleWebKit/537.36 (KHTML, like Gecko) Chrome/118.0.0.0 Safari/537.36',\n",
    "        'Xsrf-Token' : 'wv3D3Mhr-whZzCCMb-wvI3DPM5hgwMFboMQk'\n",
    "    }\n",
    "response = requests.get(url, headers=header)\n",
    "data = response.json()\n",
    "\n",
    "# Ambil request_id\n",
    "request_id = data[\"request_id\"]\n",
    "\n",
    "# Ambil array hotels\n",
    "hotels = data.get(\"hotels\", [])\n",
    "\n",
    "# Ambil poin minat dari setiap hotel\n",
    "point_of_interests = []\n",
    "for hotel in hotels:\n",
    "    point_of_interests.extend(hotel.get(\"point_of_interests\", []))\n",
    "\n",
    "# Tentukan nama file CSV\n",
    "csv_file = \"data_testing1.csv\"\n",
    "\n",
    "# Tulis data ke dalam file CSV\n",
    "with open(csv_file, mode='w', newline='') as file:\n",
    "    writer = csv.writer(file, delimiter=';')\n",
    "    \n",
    "    # Tulis header\n",
    "    writer.writerow([\"request_id\", \"poi_id\", \"poi_name\", \"poi_latitude\", \"poi_longitude\", \"poi_distance\", \"poi_categories\", \"poi_subcategories\"])\n",
    "    \n",
    "    # Tulis data point_of_interests\n",
    "    for poi in point_of_interests:\n",
    "        poi_id = poi.get(\"id\", \"\")\n",
    "        poi_name = poi.get(\"name\", \"\")\n",
    "        poi_latitude = poi.get(\"latitude\", \"\")\n",
    "        poi_longitude = poi.get(\"longitude\", \"\")\n",
    "        poi_distance = poi.get(\"distance\", \"\")\n",
    "        poi_categories = poi.get(\"categories\", \"\")\n",
    "        poi_subcategories = poi.get(\"sub_categories\",\"\")\n",
    "        \n",
    "        writer.writerow([request_id, poi_id, poi_name, poi_latitude, poi_longitude, poi_distance])\n",
    "\n",
    "print(f\"Data telah ditulis ke {csv_file}.\")\n"
   ]
  },
  {
   "cell_type": "code",
   "execution_count": 27,
   "metadata": {},
   "outputs": [
    {
     "name": "stdout",
     "output_type": "stream",
     "text": [
      "Data telah ditulis ke data_testing4.csv.\n"
     ]
    }
   ],
   "source": [
    "import requests\n",
    "import csv\n",
    "\n",
    "# URL untuk mengambil data\n",
    "url = \"https://www.oyorooms.com/api/pwa/nearbyplaces?additional_fields=point_of_interests&filters%5Bhotel_ids%5D=104970\"\n",
    "\n",
    "# Ambil data dari URL\n",
    "header = {      \n",
    "        'Sec-Ch-Ua' : '\"Chromium\";v=\"118\", \"Google Chrome\";v=\"118\", \"Not=A?Brand\";v=\"99\"',\n",
    "        'Sec-Ch-Ua-Mobile' : '?0',\n",
    "        'Sec-Ch-Ua-Platform' : '\"Windows\"',\n",
    "        'Sec-Fetch-Dest' : 'empty',\n",
    "        'Sec-Fetch-Mode' : 'cors',\n",
    "        'Sec-Fetch-Site' : 'same-origin',\n",
    "        'User-Agent' : 'Mozilla/5.0 (Windows NT 10.0; Win64; x64) AppleWebKit/537.36 (KHTML, like Gecko) Chrome/118.0.0.0 Safari/537.36',\n",
    "        'Xsrf-Token' : 'wv3D3Mhr-whZzCCMb-wvI3DPM5hgwMFboMQk'\n",
    "    }\n",
    "response = requests.get(url, headers=header)\n",
    "data = response.json()\n",
    "\n",
    "# Ambil request_id\n",
    "request_id = data[\"request_id\"]\n",
    "\n",
    "# Ambil array hotels\n",
    "hotels = data.get(\"hotels\", [])\n",
    "\n",
    "# Ambil poin minat dari setiap hotel\n",
    "point_of_interests = []\n",
    "for hotel in hotels:\n",
    "    point_of_interests.extend(hotel.get(\"point_of_interests\", []))\n",
    "\n",
    "# Tentukan nama file CSV\n",
    "csv_file = \"data_testing4.csv\"\n",
    "\n",
    "# Tulis data ke dalam file CSV\n",
    "with open(csv_file, mode='w', newline='') as file:\n",
    "    writer = csv.writer(file, delimiter=';')\n",
    "    \n",
    "    # Tulis header\n",
    "    writer.writerow([\"source\", \"id\", \"name\", \"latitude\", \"longitude\", \"distance\", \"categories\", 'subcategories', 'oyo_id', 'address', 'hotel_type'])\n",
    "    \n",
    "    # Tulis data point_of_interests\n",
    "    for poi in point_of_interests:\n",
    "        poi_id = poi.get(\"id\", \"\")\n",
    "        poi_name = poi.get(\"name\", \"\")\n",
    "        poi_latitude = poi.get(\"latitude\", \"\")\n",
    "        poi_longitude = poi.get(\"longitude\", \"\")\n",
    "        poi_distance = poi.get(\"distance\", \"\")\n",
    "        poi_categories = poi.get(\"categories\", \"\")\n",
    "        poi_subcategories = poi.get(\"sub_categories\",\"\")\n",
    "        \n",
    "        writer.writerow([\"point_of_interests\", poi_id, poi_name, poi_latitude, poi_longitude, poi_distance, poi_categories, poi_subcategories, \"\", \"\", \"\"])\n",
    "\n",
    "    # Tulis data hotels\n",
    "    for hotel in hotels:\n",
    "        longitude = hotel.get(\"longitude\", \"\")\n",
    "        latitude = hotel.get(\"latitude\", \"\")\n",
    "        id = hotel.get(\"id\", \"\")\n",
    "        oyo_id = hotel.get(\"oyo_id\", \"\")\n",
    "        category = hotel.get(\"category\", \"\")\n",
    "        name = hotel.get(\"name\", \"\")\n",
    "        address = hotel.get(\"address\", \"\")\n",
    "        hotel_type = hotel.get(\"hotel_type\", \"\")\n",
    "        \n",
    "        writer.writerow([\"hotels\", id, name, latitude, longitude, \"\", category, \"\", oyo_id, address, hotel_type])\n",
    "        \n",
    "print(f\"Data telah ditulis ke {csv_file}.\")\n"
   ]
  },
  {
   "cell_type": "code",
   "execution_count": 32,
   "metadata": {},
   "outputs": [
    {
     "name": "stdout",
     "output_type": "stream",
     "text": [
      "Data : 104970\n",
      "Data : 104971\n",
      "Data : 104972\n",
      "Data telah ditulis ke data_testing7.csv.\n"
     ]
    }
   ],
   "source": [
    "import requests\n",
    "import csv\n",
    "import time\n",
    "\n",
    "# URL untuk mengambil data\n",
    "base_url = \"https://www.oyorooms.com/api/pwa/nearbyplaces?additional_fields=point_of_interests&filters%5Bhotel_ids%5D=\"\n",
    "\n",
    "# Tentukan nama file CSV\n",
    "csv_file = \"data_testing1.csv\"\n",
    "\n",
    "# Tulis data ke dalam file CSV\n",
    "with open(csv_file, mode='w', newline='') as file:\n",
    "    writer = csv.writer(file, delimiter=';')\n",
    "    \n",
    "    # Tulis header\n",
    "    writer.writerow([\"source\", \"id\", \"name\", \"latitude\", \"longitude\", \"distance\", \"categories\", 'subcategories', 'oyo_id', 'address', 'hotel_type'])\n",
    "            \n",
    "    for id_hotel in range (104970, 104973) :\n",
    "        print('Data :', id_hotel)\n",
    "        \n",
    "        url = base_url + str(id_hotel)\n",
    "        # Ambil data dari URL\n",
    "        header = {      \n",
    "                'Sec-Ch-Ua' : '\"Chromium\";v=\"118\", \"Google Chrome\";v=\"118\", \"Not=A?Brand\";v=\"99\"',\n",
    "                'Sec-Ch-Ua-Mobile' : '?0',\n",
    "                'Sec-Ch-Ua-Platform' : '\"Windows\"',\n",
    "                'Sec-Fetch-Dest' : 'empty',\n",
    "                'Sec-Fetch-Mode' : 'cors',\n",
    "                'Sec-Fetch-Site' : 'same-origin',\n",
    "                'User-Agent' : 'Mozilla/5.0 (Windows NT 10.0; Win64; x64) AppleWebKit/537.36 (KHTML, like Gecko) Chrome/118.0.0.0 Safari/537.36',\n",
    "                'Xsrf-Token' : 'wv3D3Mhr-whZzCCMb-wvI3DPM5hgwMFboMQk'\n",
    "            }\n",
    "                \n",
    "        response = requests.get(url, headers=header)\n",
    "        data = response.json()\n",
    "\n",
    "        # Ambil request_id\n",
    "        request_id = data[\"request_id\"]\n",
    "\n",
    "        # Ambil array hotels\n",
    "        hotels = data.get(\"hotels\", [])\n",
    "\n",
    "        # Ambil poin minat dari setiap hotel\n",
    "        point_of_interests = []\n",
    "        for hotel in hotels:\n",
    "            point_of_interests.extend(hotel.get(\"point_of_interests\", []))\n",
    "        \n",
    "        # Tulis data point_of_interests\n",
    "        for poi in point_of_interests:\n",
    "            poi_id = poi.get(\"id\", \"\")\n",
    "            poi_name = poi.get(\"name\", \"\")\n",
    "            poi_latitude = poi.get(\"latitude\", \"\")\n",
    "            poi_longitude = poi.get(\"longitude\", \"\")\n",
    "            poi_distance = poi.get(\"distance\", \"\")\n",
    "            poi_categories = poi.get(\"categories\", \"\")\n",
    "            poi_subcategories = poi.get(\"sub_categories\",\"\")\n",
    "            \n",
    "            writer.writerow([\"point_of_interests\", poi_id, poi_name, poi_latitude, poi_longitude, poi_distance, poi_categories, poi_subcategories, \"\", \"\", \"\"])\n",
    "\n",
    "        # Tulis data hotels\n",
    "        for hotel in hotels:\n",
    "            longitude = hotel.get(\"longitude\", \"\")\n",
    "            latitude = hotel.get(\"latitude\", \"\")\n",
    "            id = hotel.get(\"id\", \"\")\n",
    "            oyo_id = hotel.get(\"oyo_id\", \"\")\n",
    "            category = hotel.get(\"category\", \"\")\n",
    "            name = hotel.get(\"name\", \"\")\n",
    "            address = hotel.get(\"address\", \"\")\n",
    "            hotel_type = hotel.get(\"hotel_type\", \"\")\n",
    "            \n",
    "            writer.writerow([\"hotels\", id, name, latitude, longitude, \"\", category, \"\", oyo_id, address, hotel_type])\n",
    "            \n",
    "        time.sleep(5)\n",
    "    print(f\"Data telah ditulis ke {csv_file}.\")\n"
   ]
  },
  {
   "cell_type": "code",
   "execution_count": 6,
   "metadata": {},
   "outputs": [
    {
     "name": "stdout",
     "output_type": "stream",
     "text": [
      "{'request_id': '57a0c8e0-a034-4bdf-9ca3-3dae3d55348d', 'uuid': '57a0c8e0-a034-4bdf-9ca3-3dae3d55348d', 'count': 1, 'total_count_without_applicable_filters': 1, 'slasher_percentage': 15, 'basic_amenities_label': 'Select amenities below:', 'ratings_enabled': True, 'formatted_checkin_time': '02:00 PM', 'formatted_checkout_time': '12:00 PM', 'distance_multiplier': 1, 'hotels': [{'shortlisted': False, 'show_original_name': False, 'urgency_info_list': [], 'longitude': 106.809786781669, 'latitude': -6.13929670873014, 'currency_id': 5, 'selected_category_id': 30, 'id': '104970', 'oyo_id': 'ID_JKT367', 'map_link': 'https://bit.ly/30ifcO6', 'geo_location': '-6.13929670873014,106.809786781669', 'category': 'OYO Hotels', 'display_category': 'OYO Hotels', 'name': 'OYO 3865 Wisma Niaga', 'address': 'Jl. Pasar Pagi I No 20, Jakarta', 'hotel_type': 'Hotel', 'currency_symbol': 'Rp', 'currency_code': 'IDR', 'ratings': {'social_rating': {}}, 'point_of_interests': [{'id': 'gr_ChIJr9h6vP4dai4Rh_qWgcaLVSg', 'name': 'Jakarta Kota', 'latitude': -6.1375739, 'longitude': 106.814628, 'distance': 0.5684737510474093, 'categories': ['Transportation'], 'sub_categories': ['transport_rail'], 'location_type': 'location'}, {'id': 'gr_ChIJvUsLBfz1aS4RqYEKcqgDO78', 'name': 'Stasiun Jayakarta', 'latitude': -6.141298, 'longitude': 106.823166, 'distance': 1.495812058566139, 'categories': ['Transportation'], 'sub_categories': ['transport_rail'], 'location_type': 'location'}, {'id': 'gr_ChIJsUKcKkYdai4R4DqdEwDZhi8', 'name': 'UD AIRPort', 'latitude': -6.130862800000001, 'longitude': 106.7990127, 'distance': 1.5160332826636813, 'categories': ['Transportation'], 'sub_categories': ['transport_air'], 'location_type': 'location'}, {'id': 'gr_ChIJ7Y4Ok-31aS4RKhRwrySPZcU', 'name': 'Rajawali Station', 'latitude': -6.145047, 'longitude': 106.8367089, 'distance': 3.0443237097293223, 'categories': ['Transportation'], 'sub_categories': ['transport_rail'], 'location_type': 'location'}, {'id': 'ChIJ6857v5Udai4RQWGG-3uRy9o', 'name': 'Pluit Village', 'latitude': -6.1164339, 'longitude': 106.7896514, 'distance': 3.379164710517074, 'categories': [], 'sub_categories': [], 'location_type': 'location'}, {'id': 'ChIJoT4Z2BYeai4RbcU0UsWMgxc', 'name': 'Mercure Convention Centre Ancol', 'latitude': -6.1221421, 'longitude': 106.8364598, 'distance': 3.5120981408970056, 'categories': ['Restaurants'], 'sub_categories': ['restaurant'], 'location_type': 'location'}, {'id': 'gr_ChIJc16W8M_1aS4Ro9gwKlXJjSE', 'name': 'Stasiun Juanda', 'latitude': -6.1667216, 'longitude': 106.830473, 'distance': 3.8117825830832266, 'categories': ['Transportation'], 'sub_categories': ['transport_rail'], 'location_type': 'location'}, {'id': 'AW0o3GFCZEA9YA7QiDQX', 'name': 'Grogol 2', 'latitude': -6.1672582, 'longitude': 106.7877529, 'distance': 3.9497922566546046, 'categories': ['Transportation'], 'sub_categories': ['transport_bus'], 'location_type': 'location'}, {'id': 'AW0o3GKDTPUGSNGM3i6G', 'name': 'Monas', 'latitude': -6.1762385, 'longitude': 106.822843, 'distance': 4.35396249141735, 'categories': ['Transportation'], 'sub_categories': ['transport_bus'], 'location_type': 'location'}, {'id': 'ChIJ3VJW-b31aS4RpHceeXScqNI', 'name': 'Kemayoran International Airport', 'latitude': -6.1555671, 'longitude': 106.8477407, 'distance': 4.569430535566085, 'categories': ['Transportation'], 'sub_categories': ['transport_air'], 'location_type': 'location'}, {'id': 'ChIJa_iDePj2aS4Reuhh8tMRBUc', 'name': 'Central Park Tanjung Duren', 'latitude': -6.177956900000001, 'longitude': 106.791068, 'distance': 4.770997887587136, 'categories': [], 'sub_categories': [], 'location_type': 'location'}, {'id': 'gr_ChIJORXrp_f1aS4RZIQv0eN65fs', 'name': 'Antar jemput Bandara Jakarta', 'latitude': -6.134682099999999, 'longitude': 106.853052, 'distance': 4.810750656891989, 'categories': ['Transportation'], 'sub_categories': ['transport_air'], 'location_type': 'location'}, {'id': 'gr_ChIJlz9LFEv2aS4RK037PHzLAh8', 'name': 'Pesing', 'latitude': -6.1612657, 'longitude': 106.7714667, 'distance': 4.890328690314779, 'categories': ['Transportation'], 'sub_categories': ['transport_rail'], 'location_type': 'location'}, {'id': 'ChIJcVBPRyj0aS4R09YmGmzsk8o', 'name': 'OYO 101 Apple Platinum', 'latitude': -6.1852032, 'longitude': 106.81936, 'distance': 5.213138781671831, 'categories': ['Restaurants'], 'sub_categories': ['restaurant'], 'location_type': 'location'}, {'id': 'gr_ChIJ1cBB2bT1aS4RIYCLbNPo2CY', 'name': 'Pasar Senen', 'latitude': -6.174761200000001, 'longitude': 106.8443648, 'distance': 5.49219642989646, 'categories': ['Transportation'], 'sub_categories': ['transport_rail'], 'location_type': 'location'}], 'category_wise_display_pricing': {}, 'fixed_pricing': False}], 'services_with_fallback': []}\n",
      "{'request_id': '6ad0ae4a-1701-4e1d-9885-39ae60115202', 'uuid': '6ad0ae4a-1701-4e1d-9885-39ae60115202', 'count': 1, 'total_count_without_applicable_filters': 1, 'slasher_percentage': 15, 'basic_amenities_label': 'Select amenities below:', 'ratings_enabled': True, 'formatted_checkin_time': '02:00 PM', 'formatted_checkout_time': '12:00 PM', 'distance_multiplier': 1, 'hotels': [{'shortlisted': False, 'show_original_name': False, 'urgency_info_list': [], 'longitude': 116.849918, 'latitude': 6.856253, 'currency_id': 2, 'selected_category_id': 25, 'id': '104971', 'oyo_id': 'MY_KDT001', 'map_link': 'https://bit.ly/2Xlz968', 'geo_location': '6.856253,116.849918', 'category': 'OYO Hotels', 'display_category': 'OYO Hotels', 'name': 'OYO 90093 Dreamland Beach Holiday', 'address': 'Jetty Kudat, Kudat', 'hotel_type': 'Hotel', 'currency_symbol': 'RM', 'currency_code': 'MYR', 'ratings': {'social_rating': {}}, 'category_wise_display_pricing': {}, 'fixed_pricing': False}], 'services_with_fallback': ['PointOfInterestService: Invalid data']}\n",
      "{'request_id': '7c4db914-e393-483c-aec9-e409998a6b35', 'uuid': '7c4db914-e393-483c-aec9-e409998a6b35', 'count': 1, 'total_count_without_applicable_filters': 1, 'slasher_percentage': 15, 'basic_amenities_label': 'Select amenities below:', 'ratings_enabled': True, 'formatted_checkin_time': '12:00 PM', 'formatted_checkout_time': '11:00 AM', 'distance_multiplier': 1, 'hotels': [{'shortlisted': False, 'show_original_name': False, 'urgency_info_list': [], 'longitude': 80.939554, 'latitude': 26.84096, 'currency_id': 1, 'selected_category_id': 3, 'id': '104972', 'oyo_id': 'LCK1128', 'map_link': 'https://bit.ly/2ZmLacH', 'geo_location': '26.84096,80.939554', 'category': 'Capital O', 'display_category': 'Capital O', 'name': 'CAPITAL O74766 Hotel Surya', 'address': 'Vidhan Sabha, Ashok Marg, Dugawan, Ganesh Ganj, Lucknow, Sadar, Lucknow, Lucknow', 'hotel_type': 'Hotel', 'currency_symbol': '₹', 'currency_code': 'INR', 'ratings': {'social_rating': {}}, 'point_of_interests': [{'id': 'google_record_ChIJqcSkrK39mzkRACu0KuloBlg', 'name': 'Golden Tulip', 'latitude': 26.8396032, 'longitude': 80.93365449999999, 'distance': 0.6044634868397132, 'categories': ['Restaurants']}, {'id': 'gr_ChIJfQqf3P_9mzkRUj9xLYtbg5M', 'name': 'Rajendra Verma Cycle Store Verta Chauraha Makhaura Dham Basti', 'latitude': 26.8466937, 'longitude': 80.94616599999999, 'distance': 0.9147660766033754, 'categories': ['Transportation']}, {'id': 'gr_ChIJA0ZCFx39mzkRuF1HoRFWLXA', 'name': 'Government Helipad', 'latitude': 26.8387761, 'longitude': 80.95559659999999, 'distance': 1.6101014221760206, 'categories': ['Transportation']}, {'id': 'google_record_ChIJEf9Rlkv8mzkRSZWJUtGBdLM', 'name': 'Lucknow Charbagh railway station', 'latitude': 26.8311093, 'longitude': 80.92439760000002, 'distance': 1.8604474811713345, 'categories': ['Transportation']}, {'id': 'gr_ChIJDb3ieAz9mzkRyNjFrK4nen0', 'name': 'Orchid-Fortune Park BBD, Lucknow', 'latitude': 26.8519784, 'longitude': 80.9550763, 'distance': 1.967888760625244, 'categories': ['Restaurants']}, {'id': 'gr_ChIJkU6GXkP8mzkR_RoVAws9lSo', 'name': 'Helipad', 'latitude': 26.8172573, 'longitude': 80.93070999999999, 'distance': 2.77788358725387, 'categories': ['Transportation']}, {'id': 'gr_ChIJY0U5wMn9mzkRwqRDNjRTdjk', 'name': 'Jai Narayan museum helipad', 'latitude': 26.85281449999999, 'longitude': 80.9752357, 'distance': 3.7774299677637804, 'categories': ['Transportation']}, {'id': 'google_record_ChIJId87BWn9mzkRW0cfqyCCFXk', 'name': 'Badshahnagar Railway Station', 'latitude': 26.8689734, 'longitude': 80.96172060000004, 'distance': 3.8129320808918425, 'categories': ['Transportation']}, {'id': 'gr_ChIJJzLKSyj9mzkRBlRDUIim_so', 'name': 'Helipad, Sahara India Pariwar', 'latitude': 26.8397795, 'longitude': 80.9785502, 'distance': 3.8712610952350657, 'categories': ['Transportation']}, {'id': '564716972', 'name': 'Daliganj', 'latitude': 26.875342, 'longitude': 80.927572, 'distance': 4.003619460155804, 'categories': ['Transportation']}, {'id': 'google_record_ChIJ7SL81crimzkRpFFVvzdEruQ', 'name': 'Lohiya Path', 'latitude': 26.8591495, 'longitude': 80.98743689999992, 'distance': 5.162986081951645, 'categories': ['Shopping']}, {'id': 'ChIJ19iA8Wf-mzkReBQXS8TLQeA', 'name': 'Lal Market', 'latitude': 26.842183, 'longitude': 80.877057, 'distance': 6.2021191560478925, 'categories': ['Shopping']}, {'id': 'gr_ChIJW-qKgcbimzkRth__dfJCmd8', 'name': 'Trinca Residency', 'latitude': 26.857217, 'longitude': 81.001299, 'distance': 6.386768462461992, 'categories': ['Restaurants']}, {'id': 'gr_ChIJXxpuU6_-mzkRB_wumYguhCA', 'name': 'Surya Bar & Hotel Continental', 'latitude': 26.797167, 'longitude': 80.8930168, 'distance': 6.7111483396418725, 'categories': ['Restaurants']}, {'id': 'ChIJT_f3hqjimzkRYbJse8gSfHA', 'name': 'Lucknow Grand Inn', 'latitude': 26.8829191, 'longitude': 80.9975585, 'distance': 7.4077778458553905, 'categories': ['Restaurants']}], 'category_wise_display_pricing': {}, 'fixed_pricing': False}], 'services_with_fallback': []}\n"
     ]
    }
   ],
   "source": [
    "import requests\n",
    "import csv\n",
    "\n",
    "# URL untuk mengambil data\n",
    "base_url = \"https://www.oyorooms.com/api/pwa/nearbyplaces?additional_fields=point_of_interests&filters%5Bhotel_ids%5D=\"\n",
    "\n",
    "for id_number in range(104970, 104973) :\n",
    "    url = base_url+str(id_number)\n",
    "    header = {      \n",
    "        'Sec-Ch-Ua' : '\"Chromium\";v=\"118\", \"Google Chrome\";v=\"118\", \"Not=A?Brand\";v=\"99\"',\n",
    "        'Sec-Ch-Ua-Mobile' : '?0',\n",
    "        'Sec-Ch-Ua-Platform' : '\"Windows\"',\n",
    "        'Sec-Fetch-Dest' : 'empty',\n",
    "        'Sec-Fetch-Mode' : 'cors',\n",
    "        'Sec-Fetch-Site' : 'same-origin',\n",
    "        'User-Agent' : 'Mozilla/5.0 (Windows NT 10.0; Win64; x64) AppleWebKit/537.36 (KHTML, like Gecko) Chrome/118.0.0.0 Safari/537.36',\n",
    "        'Xsrf-Token' : 'wv3D3Mhr-whZzCCMb-wvI3DPM5hgwMFboMQk'\n",
    "    }\n",
    "    \n",
    "    # Ambil data dari URL\n",
    "    response = requests.get(url, headers=header)\n",
    "    data = response.json()\n",
    "\n",
    "    print(data)"
   ]
  },
  {
   "cell_type": "code",
   "execution_count": 4,
   "metadata": {},
   "outputs": [
    {
     "name": "stdout",
     "output_type": "stream",
     "text": [
      "<Response [403]>\n"
     ]
    }
   ],
   "source": [
    "import requests\n",
    "\n",
    "base_url = \"https://www.oyorooms.com/api/pwa/nearbyplaces?additional_fields=point_of_interests&filters%5Bhotel_ids%5D=97940\"\n",
    "header = {\n",
    "    'Access_token' : 'dUxaRnA5NWJyWFlQYkpQNnEtemo6bzdvX01KLUNFbnRyS3hfdEgyLUE=',\n",
    "    'Cookie' : 'mab=c96f9579059283dcdab9d5937e11d96b; appData=%7B%22userData%22%3A%7B%22isLoggedIn%22%3Afalse%7D%7D; token=dUxaRnA5NWJyWFlQYkpQNnEtemo6bzdvX01KLUNFbnRyS3hfdEgyLUE%3D; _gid=GA1.2.42060783.1697531095; fingerprint2=2461a2f4a511c56dd8d183a5f43c34af; _gcl_au=1.1.2089554264.1697531095; tvc_utm_source=google; tvc_utm_medium=organic; tvc_utm_campaign=(not set); tvc_utm_key=(not set); tvc_utm_content=(not set); _fbp=fb.1.1697531095849.1340272747; _ga_BYQ2EKCVJ9=GS1.2.1697531262.1.0.1697531262.60.0.0; _ga=GA1.2.1868964657.1697531095; _ga_E9GCXGV17B=GS1.1.1697531263.1.1.1697532804.60.0.0; _csrf=McbN0rScwyU5lbL0dYNl0eIE; acc=ID; X-Location=georegion%3D105%2Ccountry_code%3DID%2Cregion_code%3DJK%2Ccity%3DJAKARTA%2Clat%3D-6.20%2Clong%3D106.85%2Ctimezone%3DGMT%2B7%2Ccontinent%3DAS%2Cthroughput%3Dlow%2Cbw%3D1%2Casnum%3D7713%2Clocation_id%3D0; _uid=Not%20logged%20in; AMP_TOKEN=%24NOT_FOUND; rsd=true; expd=mww2%3A1%7Cioab%3A1%7Cmhdp%3A1%7Cbcrp%3A1%7Cpwbs%3A1%7Chsdm%3A2%7Ccomp%3A0%7Cnrmp%3A1%7Cnhyw%3A1%7Cppsi%3A0%7Crecs%3A1%7Clvhm%3A1%7Cgmbr%3A1%7Cyolo%3A1%7Crcta%3A1%7Ccbot%3A1%7Cotpv%3A1%7Cndbp%3A0%7Cmapu%3A1%7Cnclc%3A0%7Cdwsl%3A1%7Ceopt%3A1%7Cotpv%3A1%7Cwizi%3A0%7Cmorr%3A1%7Cyopb%3A1%7CTTP%3A1%7Chdpn%3A1%7Cweb2%3A0%7Clog2%3A0%7Clog2%3A0%7Cugce%3A0%7Cltvr%3A0%7Chwiz%3A0%7Cwizz%3A1%7Clpcp%3A1%7Cclhp%3A0%7Cprwt%3A0%7Ccbhd%3A0%7Cins2%3A2%7Cmhdc%3A1%7Clopo%3A1; XSRF-TOKEN=LmzsdHC8-llPOBU5ax4hFfXSgS9eW6Uuk36s; _gat=1; cto_bundle=DWPkT182dlhIc1EzZzQ1bkxuRkdyb0g5dk9xM0dLUlhqc2thJTJCdkJmJTJCQXRkYkdSMzFORXM5WHhPN2k3eFBaYkpqRjJxT2trWk1leFJwb1pqS3I4UVRWYk1HVTkxcXdOcW1MRDUxTnN3cjB6Ujd5S2I1ME8xQTAlMkJNQU13JTJCQ1Fnc3ExVyUyRkVwRHBaQ0xsOFp4NklWVDFHemd2alJWaUR0eXdhempsSjZmcVdjRTN5Q2pUSDZuUUtIY0habGd1V2g3aVVZTVpWTWEyc2hEYW81JTJGaGlZQ0dSVWVYbklnJTNEJTNE'\n",
    "}\n",
    "response = requests.get(base_url, headers=header)\n",
    "print(response)"
   ]
  },
  {
   "cell_type": "code",
   "execution_count": null,
   "metadata": {},
   "outputs": [],
   "source": []
  }
 ],
 "metadata": {
  "kernelspec": {
   "display_name": "Python 3",
   "language": "python",
   "name": "python3"
  },
  "language_info": {
   "codemirror_mode": {
    "name": "ipython",
    "version": 3
   },
   "file_extension": ".py",
   "mimetype": "text/x-python",
   "name": "python",
   "nbconvert_exporter": "python",
   "pygments_lexer": "ipython3",
   "version": "3.10.9"
  }
 },
 "nbformat": 4,
 "nbformat_minor": 2
}
