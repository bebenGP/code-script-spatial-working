{
 "cells": [
  {
   "cell_type": "code",
   "execution_count": 5,
   "metadata": {},
   "outputs": [],
   "source": [
    "import arcpy\n",
    "import os"
   ]
  },
  {
   "cell_type": "code",
   "execution_count": 10,
   "metadata": {},
   "outputs": [
    {
     "name": "stdout",
     "output_type": "stream",
     "text": [
      "['SPBU_Master.csv']\n"
     ]
    }
   ],
   "source": [
    "input_data = r\"C:\\PT ESRI Indonesia\\Project\\P2 (Data Services)\\Data\\Tabular\\Retail\\spbu\"\n",
    "arcpy.env.workspace = input_data\n",
    "output_data = r\"C:\\PT ESRI Indonesia\\Project\\P2 (Data Services)\\Data\\Tabular\\Retail\\spbu\\output\"\n",
    "data = arcpy.ListTables()\n",
    "print(data)"
   ]
  },
  {
   "cell_type": "code",
   "execution_count": 11,
   "metadata": {},
   "outputs": [
    {
     "name": "stdout",
     "output_type": "stream",
     "text": [
      "Ekstraksi selesai: C:\\PT ESRI Indonesia\\Project\\P2 (Data Services)\\Data\\Tabular\\Retail\\spbu\\SPBU_Master.csv -> C:\\PT ESRI Indonesia\\Project\\P2 (Data Services)\\Data\\Tabular\\Retail\\spbu\\output\\SPBU_Master.shp\n"
     ]
    }
   ],
   "source": [
    "if not os.path.exists(output_data):\n",
    "    os.makedirs(output_data)\n",
    "\n",
    "data_ = arcpy.ListTables(\"*.csv\")\n",
    "\n",
    "for table in data_:\n",
    "    # Membuat path lengkap untuk tabel\n",
    "    table_path = os.path.join(input_data, table)\n",
    "\n",
    "    # Membaca daftar nama kolom dalam tabel\n",
    "    table_fields = [field.name for field in arcpy.ListFields(table_path)]\n",
    "\n",
    "    # Memeriksa apakah kolom \"Longitude\" dan \"Latitude\" ada dalam tabel\n",
    "    if \"Longitude\" in table_fields and \"Latitude\" in table_fields:\n",
    "        # Membuat nama output dari nama tabel\n",
    "        output_name = os.path.splitext(table)[0] + \".shp\"\n",
    "\n",
    "        # Membuat path lengkap untuk output\n",
    "        output_path = os.path.join(output_data, output_name)\n",
    "        \n",
    "        try :\n",
    "            # Mengekstrak tabel CSV ke feature class\n",
    "            arcpy.management.XYTableToPoint(table_path, output_path, \"Longitude\", \"Latitude\")\n",
    "\n",
    "            print(f\"Ekstraksi selesai: {table_path} -> {output_path}\")\n",
    "        except arcpy.ExecuteError :\n",
    "            print(f\"Data tidak dapat diekstrak : {table_path}\")\n",
    "    else:\n",
    "        print(f\"Kolom 'Longitude' atau 'Latitude' tidak ditemukan dalam tabel: {table_path}\")\n"
   ]
  },
  {
   "cell_type": "code",
   "execution_count": null,
   "metadata": {},
   "outputs": [],
   "source": []
  }
 ],
 "metadata": {
  "kernelspec": {
   "display_name": "Python 3",
   "language": "python",
   "name": "python3"
  },
  "language_info": {
   "codemirror_mode": {
    "name": "ipython",
    "version": 3
   },
   "file_extension": ".py",
   "mimetype": "text/x-python",
   "name": "python",
   "nbconvert_exporter": "python",
   "pygments_lexer": "ipython3",
   "version": "3.9.16"
  },
  "orig_nbformat": 4
 },
 "nbformat": 4,
 "nbformat_minor": 2
}
