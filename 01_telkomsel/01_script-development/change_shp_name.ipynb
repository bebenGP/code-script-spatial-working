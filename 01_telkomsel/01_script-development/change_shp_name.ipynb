{
 "cells": [
  {
   "cell_type": "code",
   "execution_count": 1,
   "metadata": {},
   "outputs": [],
   "source": [
    "import arcpy\n",
    "import os"
   ]
  },
  {
   "cell_type": "code",
   "execution_count": 2,
   "metadata": {},
   "outputs": [
    {
     "name": "stdout",
     "output_type": "stream",
     "text": [
      "Selesai proses\n"
     ]
    }
   ],
   "source": [
    "def clean_filename(filename):\n",
    "    # Menghapus karakter \"()\"\n",
    "    clean_name = filename.replace('(', '').replace(')', '')\n",
    "    # Mengganti spasi dengan \"_\"\n",
    "    clean_name = clean_name.replace(' ', '_')\n",
    "    return clean_name\n",
    "\n",
    "def main():\n",
    "    # Path folder input dan output\n",
    "    input_folder = r'D:\\Magang ESRI\\JOB\\Cleansing data\\Otomotif\\add_xy'\n",
    "    output_folder = r'D:\\Magang ESRI\\JOB\\Cleansing data\\Otomotif\\output_change_name'\n",
    "\n",
    "    # Membuat folder output jika belum ada\n",
    "    if not os.path.exists(output_folder):\n",
    "        os.makedirs(output_folder)\n",
    "\n",
    "    # Daftar file .shp di folder input\n",
    "    arcpy.env.workspace = input_folder\n",
    "    shapefiles = arcpy.ListFeatureClasses(\"*.shp\")\n",
    "\n",
    "    for shp in shapefiles:\n",
    "        # Mendapatkan nama file tanpa ekstensi\n",
    "        base_name = os.path.splitext(shp)[0]\n",
    "\n",
    "        # Membersihkan nama file\n",
    "        clean_name = clean_filename(base_name)\n",
    "\n",
    "        # Menentukan path file input dan output\n",
    "        input_path = os.path.join(input_folder, shp)\n",
    "        output_path = os.path.join(output_folder, f\"{clean_name}.shp\")\n",
    "\n",
    "        # Copy file .shp ke folder output dengan nama baru\n",
    "        arcpy.CopyFeatures_management(input_path, output_path)\n",
    "\n",
    "    print(\"Selesai proses\")\n",
    "\n",
    "if __name__ == \"__main__\":\n",
    "    main()"
   ]
  }
 ],
 "metadata": {
  "kernelspec": {
   "display_name": "Python 3",
   "language": "python",
   "name": "python3"
  },
  "language_info": {
   "codemirror_mode": {
    "name": "ipython",
    "version": 3
   },
   "file_extension": ".py",
   "mimetype": "text/x-python",
   "name": "python",
   "nbconvert_exporter": "python",
   "pygments_lexer": "ipython3",
   "version": "3.9.16"
  },
  "orig_nbformat": 4,
  "vscode": {
   "interpreter": {
    "hash": "ce21b655b4d6c9e397d5ad93d5666c623f49909f6d0cc2f72076dafcf1b3ecfb"
   }
  }
 },
 "nbformat": 4,
 "nbformat_minor": 2
}
