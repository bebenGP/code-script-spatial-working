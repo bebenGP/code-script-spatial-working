{
 "cells": [
  {
   "cell_type": "code",
   "execution_count": null,
   "metadata": {},
   "outputs": [],
   "source": [
    "import os\n",
    "import arcpy\n",
    "import csv"
   ]
  },
  {
   "cell_type": "code",
   "execution_count": null,
   "metadata": {},
   "outputs": [],
   "source": [
    "def count_valid_rows_and_extract_tags_source(shapefile_path):\n",
    "    valid_row_count = 0\n",
    "    tags_values = set()\n",
    "    source_values = set()\n",
    "\n",
    "    with arcpy.da.SearchCursor(shapefile_path, ['Latitude', 'Longitude', 'Tags', 'Source']) as cursor:\n",
    "        for row in cursor:\n",
    "            latitude, longitude, tags, source = row\n",
    "            # Memeriksa apakah kolom Latitude dan Longitude tidak kosong dan tidak bernilai 0\n",
    "            if latitude is not None or longitude is not None and (latitude != 0 or longitude != 0):\n",
    "                valid_row_count += 1\n",
    "                if tags:\n",
    "                    tags_values.add(tags)\n",
    "                if source:\n",
    "                    source_values.add(source)\n",
    "\n",
    "    return valid_row_count, ';'.join(tags_values), ';'.join(source_values)\n",
    "\n",
    "def main(folder_path, output_folder):\n",
    "    arcpy.env.workspace = folder_path\n",
    "    \n",
    "    output_csv = os.path.join(output_folder, \"report_row.csv\")\n",
    "    \n",
    "    with open(output_csv, 'w', newline='') as csvfile:\n",
    "        fieldnames = ['Shapefile', 'Valid Rows', 'Tags', 'Source']\n",
    "        writer = csv.DictWriter(csvfile, fieldnames=fieldnames, delimiter=';')  # Specify the delimiter as ';'\n",
    "        writer.writeheader()\n",
    "\n",
    "        for filename in arcpy.ListFiles(\"*.shp\"):\n",
    "            file_path = os.path.join(folder_path, filename)\n",
    "            try:\n",
    "                # Menghitung jumlah baris pada data shapefile yang memenuhi ketentuan dan ekstrak tags dan source\n",
    "                valid_row_count, tags, source = count_valid_rows_and_extract_tags_source(file_path)\n",
    "\n",
    "                # Skip rows where Latitude and Longitude are empty or equal to 0\n",
    "                if valid_row_count > 0:\n",
    "                    writer.writerow({'Shapefile': filename, 'Valid Rows': valid_row_count, 'Tags': tags, 'Source': source})\n",
    "                    print(f\"File {filename}: {valid_row_count} valid rows, Tags: {tags}, Source: {source}\")\n",
    "                else:\n",
    "                    print(f\"File {filename}: No valid rows found.\")\n",
    "            except Exception as e:\n",
    "                print(f\"Error while processing {filename}: {str(e)}\")\n",
    "\n",
    "if __name__ == \"__main__\":\n",
    "    input_folder = r\"D:\\Magang ESRI\\JOB\\Cleansing data\\Otomotif\\add_tags_source\"\n",
    "    output_folder = r\"D:\\Magang ESRI\\JOB\\Cleansing data\\Otomotif\\check_row\"\n",
    "    main(input_folder, output_folder)"
   ]
  }
 ],
 "metadata": {
  "kernelspec": {
   "display_name": "Python 3",
   "language": "python",
   "name": "python3"
  },
  "language_info": {
   "name": "python",
   "version": "3.10.11 (tags/v3.10.11:7d4cc5a, Apr  5 2023, 00:38:17) [MSC v.1929 64 bit (AMD64)]"
  },
  "orig_nbformat": 4,
  "vscode": {
   "interpreter": {
    "hash": "65a440aeac0c89e2af7569e0aa53b64434c4b69eb6285e2b0d174d9bca190d54"
   }
  }
 },
 "nbformat": 4,
 "nbformat_minor": 2
}
