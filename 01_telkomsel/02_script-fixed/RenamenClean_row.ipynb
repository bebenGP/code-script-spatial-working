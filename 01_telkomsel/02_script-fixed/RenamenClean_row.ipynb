{
 "cells": [
  {
   "cell_type": "code",
   "execution_count": null,
   "metadata": {},
   "outputs": [],
   "source": [
    "import os\n",
    "import arcpy"
   ]
  },
  {
   "cell_type": "code",
   "execution_count": null,
   "metadata": {},
   "outputs": [],
   "source": [
    "# Folder path for input files\n",
    "input_folder = r'D:\\Magang ESRI\\JOB\\Cleansing data\\Otomotif\\backup\\add_xy'\n",
    "\n",
    "# Set workspace to the input folder\n",
    "arcpy.env.workspace = input_folder\n",
    "\n",
    "# List all files in the input folder\n",
    "files = os.listdir(input_folder)\n",
    "\n",
    "# Print the list of feature classes\n",
    "print(\"List of feature classes:\")\n",
    "for shp_file in files:\n",
    "    print(shp_file)"
   ]
  },
  {
   "cell_type": "code",
   "execution_count": null,
   "metadata": {},
   "outputs": [],
   "source": [
    "# Function to clean the file name by replacing invalid characters with underscore\n",
    "def clean_filename(filename):\n",
    "    # Menghapus karakter \"()\"\n",
    "    clean_name = filename.replace('(', '').replace(')', '')\n",
    "    # Mengganti spasi dengan \"_\"\n",
    "    clean_name = clean_name.replace(' ', '_')\n",
    "    return clean_name\n",
    "\n",
    "# Rename the files in the input folder and replace the old files with the new ones\n",
    "for file in files:\n",
    "    cleaned_name = clean_filename(file)\n",
    "    input_path = os.path.join(input_folder, file)\n",
    "    output_path = os.path.join(input_folder, cleaned_name)\n",
    "    \n",
    "    # Check if the cleaned filename is different from the original filename\n",
    "    if cleaned_name != file:\n",
    "        # Rename the file\n",
    "        os.rename(input_path, output_path)\n",
    "        print(f\"Renamed {file} to {cleaned_name}.\")\n",
    "\n",
    "        # Delete the old (unmodified) file if it exists\n",
    "        if os.path.exists(input_path):\n",
    "            os.remove(input_path)\n",
    "            print(f\"Deleted the old file {file}.\")\n",
    "    else:\n",
    "        print(f\"File {file} is already correctly named. No changes were made.\")"
   ]
  },
  {
   "cell_type": "code",
   "execution_count": null,
   "metadata": {},
   "outputs": [],
   "source": [
    "# Function to cleanse rows in SHP files based on the specified conditions\n",
    "def cleanse_rows(input_shp):\n",
    "    # Use a search cursor to read the rows and clean the data\n",
    "    with arcpy.da.UpdateCursor(input_shp, [\"Latitude\", \"Longitude\"]) as cursor:\n",
    "        for row in cursor:\n",
    "            latitude, longitude = row\n",
    "            # Check if the Latitude or Longitude is 0, None, or an empty string\n",
    "            if latitude == 0 or longitude == 0 or latitude is None or longitude is None:\n",
    "                # Delete the row if any of the conditions are met\n",
    "                cursor.deleteRow()\n",
    "            else:\n",
    "                print(f\"Cleansing {os.path.basename(input_shp)} success\")\n",
    "\n",
    "# List all SHP files in the input folder\n",
    "shp_files = arcpy.ListFeatureClasses(\"*.shp\")\n",
    "\n",
    "# Cleansing rows in each SHP file\n",
    "for shp_file in shp_files:\n",
    "    shp_path = os.path.join(input_folder, shp_file)\n",
    "    cleanse_rows(shp_path)\n",
    "\n",
    "print(\"Data cleansing completed.\")"
   ]
  }
 ],
 "metadata": {
  "kernelspec": {
   "display_name": "Python 3",
   "language": "python",
   "name": "python3"
  },
  "language_info": {
   "codemirror_mode": {
    "name": "ipython",
    "version": 3
   },
   "file_extension": ".py",
   "mimetype": "text/x-python",
   "name": "python",
   "nbconvert_exporter": "python",
   "pygments_lexer": "ipython3",
   "version": "3.10.11 (tags/v3.10.11:7d4cc5a, Apr  5 2023, 00:38:17) [MSC v.1929 64 bit (AMD64)]"
  },
  "orig_nbformat": 4,
  "vscode": {
   "interpreter": {
    "hash": "65a440aeac0c89e2af7569e0aa53b64434c4b69eb6285e2b0d174d9bca190d54"
   }
  }
 },
 "nbformat": 4,
 "nbformat_minor": 2
}
