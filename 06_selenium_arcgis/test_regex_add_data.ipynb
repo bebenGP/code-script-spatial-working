{
 "cells": [
  {
   "cell_type": "code",
   "execution_count": null,
   "metadata": {},
   "outputs": [],
   "source": [
    "from selenium import webdriver\n",
    "from selenium.webdriver.common.by import By\n",
    "from selenium.webdriver.support.ui import WebDriverWait\n",
    "from selenium.webdriver.support import expected_conditions as EC\n",
    "\n",
    "# Inisialisasi WebDriver\n",
    "driver = webdriver.Chrome()\n",
    "driver.get('https://ps.esriindonesia.co.id/portal/home/index.html')\n",
    "\n",
    "# Tunggu hingga tombol \"Sign In\" muncul dengan timeout maksimum 10 detik\n",
    "wait = WebDriverWait(driver, 10)\n",
    "sign_in_button = wait.until(EC.presence_of_element_located((By.CSS_SELECTOR, '.esri-header-account-control')))\n",
    "\n",
    "# Klik tombol \"Sign In\" setelah muncul\n",
    "sign_in_button.click()\n",
    "\n",
    "# Tunggu hingga elemen dengan ID \"user_username\" muncul untuk mengisi username\n",
    "username_input = wait.until(EC.presence_of_element_located((By.ID, '#user_username')))\n",
    "\n",
    "# Isi username\n",
    "username_input.send_keys('bputra')\n",
    "\n"
   ]
  },
  {
   "cell_type": "code",
   "execution_count": 8,
   "metadata": {},
   "outputs": [
    {
     "ename": "InvalidArgumentException",
     "evalue": "Message: unknown variant `//button[@class=\"arcgis-drag-and-drop.hydrated div.file-browser button.file-browser-button span.file-browser-button__text\"]`, expected one of `css selector`, `link text`, `partial link text`, `tag name`, `xpath` at line 1 column 137\n",
     "output_type": "error",
     "traceback": [
      "\u001b[1;31m---------------------------------------------------------------------------\u001b[0m",
      "\u001b[1;31mInvalidArgumentException\u001b[0m                  Traceback (most recent call last)",
      "Cell \u001b[1;32mIn[8], line 51\u001b[0m\n\u001b[0;32m     41\u001b[0m klik_new_item\u001b[39m.\u001b[39mclick()\n\u001b[0;32m     43\u001b[0m \u001b[39m#time.sleep(60)\u001b[39;00m\n\u001b[0;32m     44\u001b[0m \u001b[39m#drag_drop_data = wait.until(EC.presence_of_element_located((By.XPATH, '/html/body/div[4]/arcgis-new-item/calcite-modal/div[2]/arcgis-new-item-pages-home//arcgis-file-browser//arcgis-drag-and-drop/div/button/span[2]')))\u001b[39;00m\n\u001b[0;32m     45\u001b[0m \u001b[39m#drag_drop_data.click()\u001b[39;00m\n\u001b[1;32m   (...)\u001b[0m\n\u001b[0;32m     48\u001b[0m \u001b[39m#submit_next = submit_button = driver.find_element_by_id(\"/button\")\u001b[39;00m\n\u001b[0;32m     49\u001b[0m \u001b[39m#submit_next.click()\u001b[39;00m\n\u001b[1;32m---> 51\u001b[0m elements \u001b[39m=\u001b[39m driver\u001b[39m.\u001b[39;49mfind_element(\u001b[39m'\u001b[39;49m\u001b[39m//button[@class=\u001b[39;49m\u001b[39m\"\u001b[39;49m\u001b[39marcgis-drag-and-drop.hydrated div.file-browser button.file-browser-button span.file-browser-button__text\u001b[39;49m\u001b[39m\"\u001b[39;49m\u001b[39m]\u001b[39;49m\u001b[39m'\u001b[39;49m)\n\u001b[0;32m     52\u001b[0m elements\u001b[39m.\u001b[39mclick()\n\u001b[0;32m     54\u001b[0m klik_uploud_data \u001b[39m=\u001b[39m wait\u001b[39m.\u001b[39muntil(EC\u001b[39m.\u001b[39mpresence_of_element_located((By\u001b[39m.\u001b[39mXPATH, \u001b[39m'\u001b[39m\u001b[39m/html/body/div[4]/arcgis-new-item/calcite-modal/div[2]/arcgis-new-item-pages-home//arcgis-file-browser//arcgis-drag-and-drop/div/button\u001b[39m\u001b[39m'\u001b[39m)))\n",
      "File \u001b[1;32mc:\\Users\\bputra\\lib\\site-packages\\selenium\\webdriver\\remote\\webdriver.py:739\u001b[0m, in \u001b[0;36mWebDriver.find_element\u001b[1;34m(self, by, value)\u001b[0m\n\u001b[0;32m    736\u001b[0m     by \u001b[39m=\u001b[39m By\u001b[39m.\u001b[39mCSS_SELECTOR\n\u001b[0;32m    737\u001b[0m     value \u001b[39m=\u001b[39m \u001b[39mf\u001b[39m\u001b[39m'\u001b[39m\u001b[39m[name=\u001b[39m\u001b[39m\"\u001b[39m\u001b[39m{\u001b[39;00mvalue\u001b[39m}\u001b[39;00m\u001b[39m\"\u001b[39m\u001b[39m]\u001b[39m\u001b[39m'\u001b[39m\n\u001b[1;32m--> 739\u001b[0m \u001b[39mreturn\u001b[39;00m \u001b[39mself\u001b[39;49m\u001b[39m.\u001b[39;49mexecute(Command\u001b[39m.\u001b[39;49mFIND_ELEMENT, {\u001b[39m\"\u001b[39;49m\u001b[39musing\u001b[39;49m\u001b[39m\"\u001b[39;49m: by, \u001b[39m\"\u001b[39;49m\u001b[39mvalue\u001b[39;49m\u001b[39m\"\u001b[39;49m: value})[\u001b[39m\"\u001b[39m\u001b[39mvalue\u001b[39m\u001b[39m\"\u001b[39m]\n",
      "File \u001b[1;32mc:\\Users\\bputra\\lib\\site-packages\\selenium\\webdriver\\remote\\webdriver.py:345\u001b[0m, in \u001b[0;36mWebDriver.execute\u001b[1;34m(self, driver_command, params)\u001b[0m\n\u001b[0;32m    343\u001b[0m response \u001b[39m=\u001b[39m \u001b[39mself\u001b[39m\u001b[39m.\u001b[39mcommand_executor\u001b[39m.\u001b[39mexecute(driver_command, params)\n\u001b[0;32m    344\u001b[0m \u001b[39mif\u001b[39;00m response:\n\u001b[1;32m--> 345\u001b[0m     \u001b[39mself\u001b[39;49m\u001b[39m.\u001b[39;49merror_handler\u001b[39m.\u001b[39;49mcheck_response(response)\n\u001b[0;32m    346\u001b[0m     response[\u001b[39m\"\u001b[39m\u001b[39mvalue\u001b[39m\u001b[39m\"\u001b[39m] \u001b[39m=\u001b[39m \u001b[39mself\u001b[39m\u001b[39m.\u001b[39m_unwrap_value(response\u001b[39m.\u001b[39mget(\u001b[39m\"\u001b[39m\u001b[39mvalue\u001b[39m\u001b[39m\"\u001b[39m, \u001b[39mNone\u001b[39;00m))\n\u001b[0;32m    347\u001b[0m     \u001b[39mreturn\u001b[39;00m response\n",
      "File \u001b[1;32mc:\\Users\\bputra\\lib\\site-packages\\selenium\\webdriver\\remote\\errorhandler.py:229\u001b[0m, in \u001b[0;36mErrorHandler.check_response\u001b[1;34m(self, response)\u001b[0m\n\u001b[0;32m    227\u001b[0m         alert_text \u001b[39m=\u001b[39m value[\u001b[39m\"\u001b[39m\u001b[39malert\u001b[39m\u001b[39m\"\u001b[39m]\u001b[39m.\u001b[39mget(\u001b[39m\"\u001b[39m\u001b[39mtext\u001b[39m\u001b[39m\"\u001b[39m)\n\u001b[0;32m    228\u001b[0m     \u001b[39mraise\u001b[39;00m exception_class(message, screen, stacktrace, alert_text)  \u001b[39m# type: ignore[call-arg]  # mypy is not smart enough here\u001b[39;00m\n\u001b[1;32m--> 229\u001b[0m \u001b[39mraise\u001b[39;00m exception_class(message, screen, stacktrace)\n",
      "\u001b[1;31mInvalidArgumentException\u001b[0m: Message: unknown variant `//button[@class=\"arcgis-drag-and-drop.hydrated div.file-browser button.file-browser-button span.file-browser-button__text\"]`, expected one of `css selector`, `link text`, `partial link text`, `tag name`, `xpath` at line 1 column 137\n"
     ]
    }
   ],
   "source": [
    "from selenium import webdriver\n",
    "from selenium.webdriver.common.by import By\n",
    "from selenium.webdriver.support.ui import WebDriverWait\n",
    "from selenium.webdriver.support import expected_conditions as EC\n",
    "import time\n",
    "from pynput.keyboard import Key, Controller\n",
    "\n",
    "# Inisialisasi WebDriver\n",
    "driver = webdriver.Firefox()\n",
    "driver.get('https://ps.esriindonesia.co.id/portal/home/index.html')\n",
    "\n",
    "\n",
    "# Tunggu hingga tombol \"Sign In\" muncul dengan timeout maksimum 10 detik\n",
    "wait = WebDriverWait(driver, 10)\n",
    "sign_in_button = wait.until(EC.presence_of_element_located((By.CSS_SELECTOR, 'button.esri-header-account-control--signin')))\n",
    "\n",
    "# Klik tombol \"Sign In\" setelah muncul\n",
    "sign_in_button.click()\n",
    "\n",
    "# Tunggu hingga elemen dengan ID \"user_username\" muncul untuk mengisi username\n",
    "username_input = wait.until(EC.presence_of_element_located((By.ID, 'user_username')))\n",
    "password_input = wait.until(EC.presence_of_element_located((By.ID, 'user_password')))\n",
    "\n",
    "# untuk buka yg tertutup user dan passwordnya\n",
    "click_pop = wait.until(EC.presence_of_element_located((By.CSS_SELECTOR, '#loginTitle')))\n",
    "click_pop.click()\n",
    "\n",
    "# Isi username dan password\n",
    "username_input.send_keys('bputra')\n",
    "password_input.send_keys('Bonaparte15!')\n",
    "\n",
    "# klik sign in\n",
    "sign_in_click = wait.until(EC.presence_of_element_located((By.CSS_SELECTOR, '#signIn')))\n",
    "sign_in_click.click()\n",
    "\n",
    "# klik content\n",
    "klik_content = wait.until(EC.presence_of_element_located((By.CSS_SELECTOR, '#esri-header-menus-link-desktop-0-5 > span:nth-child(1)')))\n",
    "klik_content.click()\n",
    "\n",
    "klik_new_item = wait.until(EC.presence_of_element_located((By.CSS_SELECTOR, '.new-item-cta')))\n",
    "klik_new_item.click()\n",
    "\n",
    "#time.sleep(60)\n",
    "#drag_drop_data = wait.until(EC.presence_of_element_located((By.XPATH, '/html/body/div[4]/arcgis-new-item/calcite-modal/div[2]/arcgis-new-item-pages-home//arcgis-file-browser//arcgis-drag-and-drop/div/button/span[2]')))\n",
    "#drag_drop_data.click()\n",
    "#drag_drop_data.send_keys(\"C:\\PT ESRI Indonesia\\Project\\P2 (Data Services)\\Data\\Tabular\\ATM\\BCA.csv\")\n",
    "\n",
    "#submit_next = submit_button = driver.find_element_by_id(\"/button\")\n",
    "#submit_next.click()\n",
    "\n",
    "elements = driver.find_element('//button[@class=\"arcgis-drag-and-drop.hydrated div.file-browser button.file-browser-button span.file-browser-button__text\"]')\n",
    "elements.click()\n",
    "\n",
    "klik_uploud_data = wait.until(EC.presence_of_element_located((By.XPATH, '/html/body/div[4]/arcgis-new-item/calcite-modal/div[2]/arcgis-new-item-pages-home//arcgis-file-browser//arcgis-drag-and-drop/div/button')))\n",
    "klik_uploud_data.click()\n",
    "driver.execute_script(\"arguments[0].click();\", klik_uploud_data)\n",
    "\n",
    "time.sleep(3)\n",
    "\n",
    "keyboard = Controller\n",
    "\n",
    "keyboard.type(r\"C:\\PT ESRI Indonesia\\Project\\P2 (Data Services)\\Data\\Tabular\\ATM\\BCA.csv\")\n",
    "keyboard.press(Key.enter)\n",
    "keyboard.release(Key.enter)\n",
    "\n",
    "\n",
    "\n"
   ]
  },
  {
   "cell_type": "code",
   "execution_count": 2,
   "metadata": {},
   "outputs": [
    {
     "name": "stdout",
     "output_type": "stream",
     "text": [
      "Collecting pynput\n",
      "  Downloading pynput-1.7.6-py2.py3-none-any.whl (89 kB)\n",
      "     ---------------------------------------- 0.0/89.2 kB ? eta -:--:--\n",
      "     ---------------------------------------- 89.2/89.2 kB 2.5 MB/s eta 0:00:00\n",
      "Requirement already satisfied: six in c:\\users\\bputra\\lib\\site-packages (from pynput) (1.16.0)\n",
      "Installing collected packages: pynput\n",
      "Successfully installed pynput-1.7.6\n",
      "Note: you may need to restart the kernel to use updated packages.\n"
     ]
    }
   ],
   "source": [
    "pip install pynput"
   ]
  }
 ],
 "metadata": {
  "kernelspec": {
   "display_name": "Python 3",
   "language": "python",
   "name": "python3"
  },
  "language_info": {
   "codemirror_mode": {
    "name": "ipython",
    "version": 3
   },
   "file_extension": ".py",
   "mimetype": "text/x-python",
   "name": "python",
   "nbconvert_exporter": "python",
   "pygments_lexer": "ipython3",
   "version": "3.10.10"
  },
  "orig_nbformat": 4
 },
 "nbformat": 4,
 "nbformat_minor": 2
}
