{
 "cells": [
  {
   "cell_type": "code",
   "execution_count": 1,
   "metadata": {},
   "outputs": [],
   "source": [
    "import arcpy\n",
    "import os"
   ]
  },
  {
   "cell_type": "code",
   "execution_count": 2,
   "metadata": {},
   "outputs": [
    {
     "name": "stdout",
     "output_type": "stream",
     "text": [
      "['Alva (Motor).csv', 'Aprilia (Motor).csv', 'Aston Martin (Mobil).csv', 'Audi (Mobil).csv', 'Benelli (Motor).csv', 'Bentley (Mobil).csv', 'BMW (Mobil).csv', 'BMW (Motor).csv', 'Chery (Mobil).csv', 'Daihatsu (Mobil).csv', 'Davigo (Motor).csv', 'Dayang (Motor).csv', 'Ducati (Motor).csv', 'Ford (Mobil).csv', 'Gesits (Motor).csv', 'Happy_Motor (Motor).csv', 'Hino (Truck).csv', 'Husqvarna (Motor).csv', 'Hyosung (Motor).csv', 'Hyundai (Mobil).csv', 'Isuzu (Mobil).csv', 'Isuzu (Truck).csv', 'Jaguar (Mobil).csv', 'Jeep (Mobil).csv', 'Jialing (Motor).csv', 'Kawasaki (Motor).csv', 'KIA (Mobil) .csv', 'KTM (Motor).csv', 'Kymco (Motor).csv', 'Lamborghini (Mobil).csv', 'Land Rover (Mobil).csv', 'Lexus (Mobil).csv', 'Mahindra (Mobil).csv', 'Man (Truck).csv', 'Mazda (Mobil).csv', 'McLaren (Mobil).csv', 'Mercedes Benz (Truck).csv', 'Mitsubishi Fuso (Truck).csv', 'MV_Agusta (Motor).csv', 'Nissan (Mobil).csv', 'Peugeot (Mobil).csv', 'Porsche (Mobil).csv', 'Renault (Mobil).csv', 'Rolls Royce (Mobil).csv', 'Scania (Truck).csv', 'SOIB (Motor).csv', 'Subaru (Mobil).csv', 'Suzuki (Mobil).csv', 'Suzuki (Motor).csv', 'Tata (Mobil).csv', 'Tata (Truck).csv', 'Vespa_Piaggio (Motor).csv', 'Viar (Motor).csv', 'Volkswagen (Mobil).csv', 'Volvo (Truck).csv', 'Wuling (Mobil).csv', 'Yamaha (Motor).csv']\n"
     ]
    }
   ],
   "source": [
    "input_data = r'D:\\Magang ESRI\\JOB\\Cleansing data\\Otomotif\\data'\n",
    "arcpy.env.workspace = input_data\n",
    "output_data = r'D:\\Magang ESRI\\JOB\\Cleansing data\\Otomotif\\add_xy_2'\n",
    "data = arcpy.ListTables()\n",
    "print(data)"
   ]
  },
  {
   "cell_type": "code",
   "execution_count": 3,
   "metadata": {},
   "outputs": [
    {
     "name": "stdout",
     "output_type": "stream",
     "text": [
      "Ekstraksi selesai: D:\\Magang ESRI\\JOB\\Cleansing data\\Otomotif\\data\\Alva (Motor).csv -> D:\\Magang ESRI\\JOB\\Cleansing data\\Otomotif\\add_xy_2\\Alva (Motor).shp\n",
      "Ekstraksi selesai: D:\\Magang ESRI\\JOB\\Cleansing data\\Otomotif\\data\\Aprilia (Motor).csv -> D:\\Magang ESRI\\JOB\\Cleansing data\\Otomotif\\add_xy_2\\Aprilia (Motor).shp\n",
      "Ekstraksi selesai: D:\\Magang ESRI\\JOB\\Cleansing data\\Otomotif\\data\\Aston Martin (Mobil).csv -> D:\\Magang ESRI\\JOB\\Cleansing data\\Otomotif\\add_xy_2\\Aston Martin (Mobil).shp\n",
      "Ekstraksi selesai: D:\\Magang ESRI\\JOB\\Cleansing data\\Otomotif\\data\\Audi (Mobil).csv -> D:\\Magang ESRI\\JOB\\Cleansing data\\Otomotif\\add_xy_2\\Audi (Mobil).shp\n",
      "Ekstraksi selesai: D:\\Magang ESRI\\JOB\\Cleansing data\\Otomotif\\data\\Benelli (Motor).csv -> D:\\Magang ESRI\\JOB\\Cleansing data\\Otomotif\\add_xy_2\\Benelli (Motor).shp\n",
      "Ekstraksi selesai: D:\\Magang ESRI\\JOB\\Cleansing data\\Otomotif\\data\\Bentley (Mobil).csv -> D:\\Magang ESRI\\JOB\\Cleansing data\\Otomotif\\add_xy_2\\Bentley (Mobil).shp\n",
      "Ekstraksi selesai: D:\\Magang ESRI\\JOB\\Cleansing data\\Otomotif\\data\\BMW (Mobil).csv -> D:\\Magang ESRI\\JOB\\Cleansing data\\Otomotif\\add_xy_2\\BMW (Mobil).shp\n",
      "Ekstraksi selesai: D:\\Magang ESRI\\JOB\\Cleansing data\\Otomotif\\data\\BMW (Motor).csv -> D:\\Magang ESRI\\JOB\\Cleansing data\\Otomotif\\add_xy_2\\BMW (Motor).shp\n",
      "Ekstraksi selesai: D:\\Magang ESRI\\JOB\\Cleansing data\\Otomotif\\data\\Chery (Mobil).csv -> D:\\Magang ESRI\\JOB\\Cleansing data\\Otomotif\\add_xy_2\\Chery (Mobil).shp\n",
      "Ekstraksi selesai: D:\\Magang ESRI\\JOB\\Cleansing data\\Otomotif\\data\\Daihatsu (Mobil).csv -> D:\\Magang ESRI\\JOB\\Cleansing data\\Otomotif\\add_xy_2\\Daihatsu (Mobil).shp\n",
      "Ekstraksi selesai: D:\\Magang ESRI\\JOB\\Cleansing data\\Otomotif\\data\\Davigo (Motor).csv -> D:\\Magang ESRI\\JOB\\Cleansing data\\Otomotif\\add_xy_2\\Davigo (Motor).shp\n",
      "Ekstraksi selesai: D:\\Magang ESRI\\JOB\\Cleansing data\\Otomotif\\data\\Dayang (Motor).csv -> D:\\Magang ESRI\\JOB\\Cleansing data\\Otomotif\\add_xy_2\\Dayang (Motor).shp\n",
      "Ekstraksi selesai: D:\\Magang ESRI\\JOB\\Cleansing data\\Otomotif\\data\\Ducati (Motor).csv -> D:\\Magang ESRI\\JOB\\Cleansing data\\Otomotif\\add_xy_2\\Ducati (Motor).shp\n",
      "Ekstraksi selesai: D:\\Magang ESRI\\JOB\\Cleansing data\\Otomotif\\data\\Ford (Mobil).csv -> D:\\Magang ESRI\\JOB\\Cleansing data\\Otomotif\\add_xy_2\\Ford (Mobil).shp\n",
      "Ekstraksi selesai: D:\\Magang ESRI\\JOB\\Cleansing data\\Otomotif\\data\\Gesits (Motor).csv -> D:\\Magang ESRI\\JOB\\Cleansing data\\Otomotif\\add_xy_2\\Gesits (Motor).shp\n",
      "Ekstraksi selesai: D:\\Magang ESRI\\JOB\\Cleansing data\\Otomotif\\data\\Happy_Motor (Motor).csv -> D:\\Magang ESRI\\JOB\\Cleansing data\\Otomotif\\add_xy_2\\Happy_Motor (Motor).shp\n",
      "Data tidak dapat diekstrak: D:\\Magang ESRI\\JOB\\Cleansing data\\Otomotif\\data\\Hino (Truck).csv\n",
      "Error message: Failed to execute. Parameters are not valid.\n",
      "ERROR 000308: Invalid field type\n",
      "ERROR 000308: Invalid field type\n",
      "Failed to execute (XYTableToPoint).\n",
      "\n",
      "Ekstraksi selesai: D:\\Magang ESRI\\JOB\\Cleansing data\\Otomotif\\data\\Husqvarna (Motor).csv -> D:\\Magang ESRI\\JOB\\Cleansing data\\Otomotif\\add_xy_2\\Husqvarna (Motor).shp\n",
      "Ekstraksi selesai: D:\\Magang ESRI\\JOB\\Cleansing data\\Otomotif\\data\\Hyosung (Motor).csv -> D:\\Magang ESRI\\JOB\\Cleansing data\\Otomotif\\add_xy_2\\Hyosung (Motor).shp\n",
      "Ekstraksi selesai: D:\\Magang ESRI\\JOB\\Cleansing data\\Otomotif\\data\\Hyundai (Mobil).csv -> D:\\Magang ESRI\\JOB\\Cleansing data\\Otomotif\\add_xy_2\\Hyundai (Mobil).shp\n",
      "Ekstraksi selesai: D:\\Magang ESRI\\JOB\\Cleansing data\\Otomotif\\data\\Isuzu (Mobil).csv -> D:\\Magang ESRI\\JOB\\Cleansing data\\Otomotif\\add_xy_2\\Isuzu (Mobil).shp\n",
      "Data tidak dapat diekstrak: D:\\Magang ESRI\\JOB\\Cleansing data\\Otomotif\\data\\Isuzu (Truck).csv\n",
      "Error message: Failed to execute. Parameters are not valid.\n",
      "ERROR 000308: Invalid field type\n",
      "Failed to execute (XYTableToPoint).\n",
      "\n",
      "Ekstraksi selesai: D:\\Magang ESRI\\JOB\\Cleansing data\\Otomotif\\data\\Jaguar (Mobil).csv -> D:\\Magang ESRI\\JOB\\Cleansing data\\Otomotif\\add_xy_2\\Jaguar (Mobil).shp\n",
      "Ekstraksi selesai: D:\\Magang ESRI\\JOB\\Cleansing data\\Otomotif\\data\\Jeep (Mobil).csv -> D:\\Magang ESRI\\JOB\\Cleansing data\\Otomotif\\add_xy_2\\Jeep (Mobil).shp\n",
      "Ekstraksi selesai: D:\\Magang ESRI\\JOB\\Cleansing data\\Otomotif\\data\\Jialing (Motor).csv -> D:\\Magang ESRI\\JOB\\Cleansing data\\Otomotif\\add_xy_2\\Jialing (Motor).shp\n",
      "Ekstraksi selesai: D:\\Magang ESRI\\JOB\\Cleansing data\\Otomotif\\data\\Kawasaki (Motor).csv -> D:\\Magang ESRI\\JOB\\Cleansing data\\Otomotif\\add_xy_2\\Kawasaki (Motor).shp\n",
      "Ekstraksi selesai: D:\\Magang ESRI\\JOB\\Cleansing data\\Otomotif\\data\\KIA (Mobil) .csv -> D:\\Magang ESRI\\JOB\\Cleansing data\\Otomotif\\add_xy_2\\KIA (Mobil) .shp\n",
      "Ekstraksi selesai: D:\\Magang ESRI\\JOB\\Cleansing data\\Otomotif\\data\\KTM (Motor).csv -> D:\\Magang ESRI\\JOB\\Cleansing data\\Otomotif\\add_xy_2\\KTM (Motor).shp\n",
      "Ekstraksi selesai: D:\\Magang ESRI\\JOB\\Cleansing data\\Otomotif\\data\\Kymco (Motor).csv -> D:\\Magang ESRI\\JOB\\Cleansing data\\Otomotif\\add_xy_2\\Kymco (Motor).shp\n",
      "Ekstraksi selesai: D:\\Magang ESRI\\JOB\\Cleansing data\\Otomotif\\data\\Lamborghini (Mobil).csv -> D:\\Magang ESRI\\JOB\\Cleansing data\\Otomotif\\add_xy_2\\Lamborghini (Mobil).shp\n",
      "Ekstraksi selesai: D:\\Magang ESRI\\JOB\\Cleansing data\\Otomotif\\data\\Land Rover (Mobil).csv -> D:\\Magang ESRI\\JOB\\Cleansing data\\Otomotif\\add_xy_2\\Land Rover (Mobil).shp\n",
      "Ekstraksi selesai: D:\\Magang ESRI\\JOB\\Cleansing data\\Otomotif\\data\\Lexus (Mobil).csv -> D:\\Magang ESRI\\JOB\\Cleansing data\\Otomotif\\add_xy_2\\Lexus (Mobil).shp\n",
      "Ekstraksi selesai: D:\\Magang ESRI\\JOB\\Cleansing data\\Otomotif\\data\\Mahindra (Mobil).csv -> D:\\Magang ESRI\\JOB\\Cleansing data\\Otomotif\\add_xy_2\\Mahindra (Mobil).shp\n",
      "Ekstraksi selesai: D:\\Magang ESRI\\JOB\\Cleansing data\\Otomotif\\data\\Man (Truck).csv -> D:\\Magang ESRI\\JOB\\Cleansing data\\Otomotif\\add_xy_2\\Man (Truck).shp\n",
      "Ekstraksi selesai: D:\\Magang ESRI\\JOB\\Cleansing data\\Otomotif\\data\\Mazda (Mobil).csv -> D:\\Magang ESRI\\JOB\\Cleansing data\\Otomotif\\add_xy_2\\Mazda (Mobil).shp\n",
      "Ekstraksi selesai: D:\\Magang ESRI\\JOB\\Cleansing data\\Otomotif\\data\\McLaren (Mobil).csv -> D:\\Magang ESRI\\JOB\\Cleansing data\\Otomotif\\add_xy_2\\McLaren (Mobil).shp\n",
      "Ekstraksi selesai: D:\\Magang ESRI\\JOB\\Cleansing data\\Otomotif\\data\\Mercedes Benz (Truck).csv -> D:\\Magang ESRI\\JOB\\Cleansing data\\Otomotif\\add_xy_2\\Mercedes Benz (Truck).shp\n",
      "Ekstraksi selesai: D:\\Magang ESRI\\JOB\\Cleansing data\\Otomotif\\data\\Mitsubishi Fuso (Truck).csv -> D:\\Magang ESRI\\JOB\\Cleansing data\\Otomotif\\add_xy_2\\Mitsubishi Fuso (Truck).shp\n",
      "Ekstraksi selesai: D:\\Magang ESRI\\JOB\\Cleansing data\\Otomotif\\data\\MV_Agusta (Motor).csv -> D:\\Magang ESRI\\JOB\\Cleansing data\\Otomotif\\add_xy_2\\MV_Agusta (Motor).shp\n",
      "Ekstraksi selesai: D:\\Magang ESRI\\JOB\\Cleansing data\\Otomotif\\data\\Nissan (Mobil).csv -> D:\\Magang ESRI\\JOB\\Cleansing data\\Otomotif\\add_xy_2\\Nissan (Mobil).shp\n",
      "Ekstraksi selesai: D:\\Magang ESRI\\JOB\\Cleansing data\\Otomotif\\data\\Peugeot (Mobil).csv -> D:\\Magang ESRI\\JOB\\Cleansing data\\Otomotif\\add_xy_2\\Peugeot (Mobil).shp\n",
      "Ekstraksi selesai: D:\\Magang ESRI\\JOB\\Cleansing data\\Otomotif\\data\\Porsche (Mobil).csv -> D:\\Magang ESRI\\JOB\\Cleansing data\\Otomotif\\add_xy_2\\Porsche (Mobil).shp\n",
      "Ekstraksi selesai: D:\\Magang ESRI\\JOB\\Cleansing data\\Otomotif\\data\\Renault (Mobil).csv -> D:\\Magang ESRI\\JOB\\Cleansing data\\Otomotif\\add_xy_2\\Renault (Mobil).shp\n",
      "Ekstraksi selesai: D:\\Magang ESRI\\JOB\\Cleansing data\\Otomotif\\data\\Rolls Royce (Mobil).csv -> D:\\Magang ESRI\\JOB\\Cleansing data\\Otomotif\\add_xy_2\\Rolls Royce (Mobil).shp\n",
      "Ekstraksi selesai: D:\\Magang ESRI\\JOB\\Cleansing data\\Otomotif\\data\\Scania (Truck).csv -> D:\\Magang ESRI\\JOB\\Cleansing data\\Otomotif\\add_xy_2\\Scania (Truck).shp\n",
      "Ekstraksi selesai: D:\\Magang ESRI\\JOB\\Cleansing data\\Otomotif\\data\\SOIB (Motor).csv -> D:\\Magang ESRI\\JOB\\Cleansing data\\Otomotif\\add_xy_2\\SOIB (Motor).shp\n",
      "Ekstraksi selesai: D:\\Magang ESRI\\JOB\\Cleansing data\\Otomotif\\data\\Subaru (Mobil).csv -> D:\\Magang ESRI\\JOB\\Cleansing data\\Otomotif\\add_xy_2\\Subaru (Mobil).shp\n",
      "Ekstraksi selesai: D:\\Magang ESRI\\JOB\\Cleansing data\\Otomotif\\data\\Suzuki (Mobil).csv -> D:\\Magang ESRI\\JOB\\Cleansing data\\Otomotif\\add_xy_2\\Suzuki (Mobil).shp\n",
      "Ekstraksi selesai: D:\\Magang ESRI\\JOB\\Cleansing data\\Otomotif\\data\\Suzuki (Motor).csv -> D:\\Magang ESRI\\JOB\\Cleansing data\\Otomotif\\add_xy_2\\Suzuki (Motor).shp\n",
      "Ekstraksi selesai: D:\\Magang ESRI\\JOB\\Cleansing data\\Otomotif\\data\\Tata (Mobil).csv -> D:\\Magang ESRI\\JOB\\Cleansing data\\Otomotif\\add_xy_2\\Tata (Mobil).shp\n",
      "Ekstraksi selesai: D:\\Magang ESRI\\JOB\\Cleansing data\\Otomotif\\data\\Tata (Truck).csv -> D:\\Magang ESRI\\JOB\\Cleansing data\\Otomotif\\add_xy_2\\Tata (Truck).shp\n",
      "Ekstraksi selesai: D:\\Magang ESRI\\JOB\\Cleansing data\\Otomotif\\data\\Vespa_Piaggio (Motor).csv -> D:\\Magang ESRI\\JOB\\Cleansing data\\Otomotif\\add_xy_2\\Vespa_Piaggio (Motor).shp\n",
      "Ekstraksi selesai: D:\\Magang ESRI\\JOB\\Cleansing data\\Otomotif\\data\\Viar (Motor).csv -> D:\\Magang ESRI\\JOB\\Cleansing data\\Otomotif\\add_xy_2\\Viar (Motor).shp\n",
      "Ekstraksi selesai: D:\\Magang ESRI\\JOB\\Cleansing data\\Otomotif\\data\\Volkswagen (Mobil).csv -> D:\\Magang ESRI\\JOB\\Cleansing data\\Otomotif\\add_xy_2\\Volkswagen (Mobil).shp\n",
      "Ekstraksi selesai: D:\\Magang ESRI\\JOB\\Cleansing data\\Otomotif\\data\\Volvo (Truck).csv -> D:\\Magang ESRI\\JOB\\Cleansing data\\Otomotif\\add_xy_2\\Volvo (Truck).shp\n",
      "Ekstraksi selesai: D:\\Magang ESRI\\JOB\\Cleansing data\\Otomotif\\data\\Wuling (Mobil).csv -> D:\\Magang ESRI\\JOB\\Cleansing data\\Otomotif\\add_xy_2\\Wuling (Mobil).shp\n",
      "Ekstraksi selesai: D:\\Magang ESRI\\JOB\\Cleansing data\\Otomotif\\data\\Yamaha (Motor).csv -> D:\\Magang ESRI\\JOB\\Cleansing data\\Otomotif\\add_xy_2\\Yamaha (Motor).shp\n"
     ]
    }
   ],
   "source": [
    "import arcpy\n",
    "import os\n",
    "\n",
    "if not os.path.exists(output_data):\n",
    "    os.makedirs(output_data)\n",
    "\n",
    "data_ = arcpy.ListTables(\"*.csv\")\n",
    "\n",
    "for table in data_:\n",
    "    # Membuat path lengkap untuk tabel\n",
    "    table_path = os.path.join(input_data, table)\n",
    "\n",
    "    # Membaca daftar nama kolom dalam tabel\n",
    "    table_fields = [field.name for field in arcpy.ListFields(table_path)]\n",
    "\n",
    "    # Memeriksa apakah kolom \"Longitude\" dan \"Latitude\" ada dalam tabel\n",
    "    if \"Longitude\" in table_fields and \"Latitude\" in table_fields:\n",
    "        # Membuat nama output dari nama tabel\n",
    "        output_name = os.path.splitext(table)[0] + \".shp\"\n",
    "\n",
    "        # Membuat path lengkap untuk output\n",
    "        output_path = os.path.join(output_data, output_name)\n",
    "        \n",
    "        try:\n",
    "            # Mengekstrak tabel CSV ke feature class\n",
    "            arcpy.management.XYTableToPoint(table_path, output_path, \"Longitude\", \"Latitude\")\n",
    "            print(f\"Ekstraksi selesai: {table_path} -> {output_path}\")\n",
    "        except arcpy.ExecuteError as e:\n",
    "            print(f\"Data tidak dapat diekstrak: {table_path}\")\n",
    "            print(f\"Error message: {e}\")\n",
    "    else:\n",
    "        print(f\"Kolom 'Longitude' atau 'Latitude' tidak ditemukan dalam tabel: {table_path}\")"
   ]
  }
 ],
 "metadata": {
  "kernelspec": {
   "display_name": "Python 3",
   "language": "python",
   "name": "python3"
  },
  "language_info": {
   "codemirror_mode": {
    "name": "ipython",
    "version": 3
   },
   "file_extension": ".py",
   "mimetype": "text/x-python",
   "name": "python",
   "nbconvert_exporter": "python",
   "pygments_lexer": "ipython3",
   "version": "3.9.16 [MSC v.1931 64 bit (AMD64)]"
  },
  "orig_nbformat": 4,
  "vscode": {
   "interpreter": {
    "hash": "ce21b655b4d6c9e397d5ad93d5666c623f49909f6d0cc2f72076dafcf1b3ecfb"
   }
  }
 },
 "nbformat": 4,
 "nbformat_minor": 2
}
