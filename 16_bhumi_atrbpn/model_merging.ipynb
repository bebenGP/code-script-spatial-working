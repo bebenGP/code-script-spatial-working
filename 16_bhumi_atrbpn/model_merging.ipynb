{
 "cells": [
  {
   "cell_type": "code",
   "execution_count": 7,
   "metadata": {},
   "outputs": [
    {
     "name": "stdout",
     "output_type": "stream",
     "text": [
      "['data1.json', 'data2.json', 'data3.json', 'data4.json', 'data5.json', 'data6.json', 'data7.json', 'data8.json', 'data9.json']\n"
     ]
    }
   ],
   "source": [
    "import arcpy\n",
    "import os\n",
    "\n",
    "# Set the workspace to the folder containing JSON files\n",
    "folder = r\"C:\\Users\\bputra\\OneDrive - ESRI Indonesia\\PT ESRI Indonesia\\Research\\code-script\\16_bhumi_atrbpn\\data\"\n",
    "folder_shp = r\"C:\\Users\\bputra\\OneDrive - ESRI Indonesia\\PT ESRI Indonesia\\Research\\code-script\\16_bhumi_atrbpn\\data_shp\"\n",
    "arcpy.env.workspace = folder\n",
    "\n",
    "# Define output folder\n",
    "output_folder = r\"C:\\Users\\bputra\\OneDrive - ESRI Indonesia\\PT ESRI Indonesia\\Research\\code-script\\16_bhumi_atrbpn\\output\"\n",
    "\n",
    "# Create a scratch geodatabase for temporary storage\n",
    "#scratch_gdb = arcpy.env.scratchGDB\n",
    "\n",
    "arcpy.env.overwriteOutput = True  # Enable overwrite outputs\n",
    "\n",
    "# Get a list of JSON files in the folder\n",
    "data_json = arcpy.ListFiles(\"*.json\")\n",
    "print(data_json)\n"
   ]
  },
  {
   "cell_type": "code",
   "execution_count": 8,
   "metadata": {},
   "outputs": [],
   "source": [
    "# List to store the converted feature classes\n",
    "converted_features = []\n",
    "\n",
    "# Loop through each JSON file\n",
    "for jsons in data_json:\n",
    "    \n",
    "    # Convert JSON to feature class\n",
    "    output_name = os.path.splitext(jsons)[0] + \".shp\"\n",
    "    output_convtjson = os.path.join(folder_shp, output_name)\n",
    "    \n",
    "    # Check if the output feature class already exists, and delete it\n",
    "    if arcpy.Exists(output_convtjson):\n",
    "        arcpy.management.Delete(output_convtjson)\n",
    "    \n",
    "    arcpy.conversion.JSONToFeatures(in_json_file=jsons, out_features=output_convtjson)\n",
    "    \n",
    "    # Add the converted feature class to the list\n",
    "    converted_features.append(output_convtjson)\n",
    "    \n"
   ]
  },
  {
   "cell_type": "code",
   "execution_count": 11,
   "metadata": {},
   "outputs": [
    {
     "name": "stdout",
     "output_type": "stream",
     "text": [
      "Script execution completed.\n"
     ]
    }
   ],
   "source": [
    "# Merge the converted JSON features into a single feature class\n",
    "output_merge = os.path.join(folder, \"merged_output\")\n",
    "arcpy.management.Merge(inputs=converted_features, output=output_merge)\n",
    "    \n",
    "# Delete identical features based on the specified field\n",
    "arcpy.management.DeleteIdentical(in_dataset=output_merge, fields=[\"ZONANILAIT\"])\n",
    "    \n",
    "# Save the cleaned data to the output folder\n",
    "cleaned_output = os.path.join(output_folder, \"clean_data_testing1.shp\")\n",
    "arcpy.management.CopyFeatures(in_features=output_merge, out_feature_class=cleaned_output)\n",
    "    \n",
    "# Clean up intermediate data\n",
    "arcpy.management.Delete(output_merge)\n",
    "\n",
    "print(\"Script execution completed.\")\n"
   ]
  }
 ],
 "metadata": {
  "kernelspec": {
   "display_name": "Python 3",
   "language": "python",
   "name": "python3"
  },
  "language_info": {
   "codemirror_mode": {
    "name": "ipython",
    "version": 3
   },
   "file_extension": ".py",
   "mimetype": "text/x-python",
   "name": "python",
   "nbconvert_exporter": "python",
   "pygments_lexer": "ipython3",
   "version": "3.9.18"
  }
 },
 "nbformat": 4,
 "nbformat_minor": 2
}
